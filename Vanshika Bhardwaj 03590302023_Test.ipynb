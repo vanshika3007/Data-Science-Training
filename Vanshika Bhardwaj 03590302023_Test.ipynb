{
 "cells": [
  {
   "cell_type": "code",
   "execution_count": 1,
   "id": "01373ebf-3f77-49b8-9e63-12102aa50139",
   "metadata": {},
   "outputs": [
    {
     "name": "stdout",
     "output_type": "stream",
     "text": [
      "[1, 2, 3, 4]\n"
     ]
    }
   ],
   "source": [
    "#Q1difference between a list and a tuple in Python\n",
    "\n",
    "#Lists are mutable, meaning you can change their contents after they are created (add, remove, or modify elements).\n",
    "#Tuples are immutable, meaning their contents cannot be changed once they are created.\n",
    "\n",
    "#example\n",
    "#List:\n",
    "my_list = [1, 2, 3]\n",
    "my_list.append(4) \n",
    "print(my_list)  \n",
    "\n"
   ]
  },
  {
   "cell_type": "code",
   "execution_count": 3,
   "id": "ff19f7c3-f8f4-4e9c-9a91-7b11a129ad28",
   "metadata": {},
   "outputs": [
    {
     "name": "stdout",
     "output_type": "stream",
     "text": [
      "(1, 2, 3)\n"
     ]
    }
   ],
   "source": [
    "#tuple:\n",
    "\n",
    "my_tuple = (1, 2, 3)\n",
    "\n",
    "print(my_tuple)  "
   ]
  },
  {
   "cell_type": "code",
   "execution_count": null,
   "id": "38342076-b1dc-4b5f-a4fc-89bf3e33c046",
   "metadata": {},
   "outputs": [],
   "source": [
    "#Q2 \n",
    "#When you use the input() function in Python can pass a string to input() to display a message, \n",
    "#like input(\"Enter your age: \").\n",
    "#program pauses until the user types something and presses Enter.\n"
   ]
  },
  {
   "cell_type": "code",
   "execution_count": 5,
   "id": "85de8c93-353a-4a48-8433-f9f04e3963fc",
   "metadata": {},
   "outputs": [],
   "source": [
    "#Q3Python dictionaries are a versatile and fundamental data structure \n",
    "#used to store collections of key-value pairs. \n",
    "\n",
    "#syntax\n",
    "my_dict = {\n",
    "    \"name\": \"Alice\",\n",
    "    \"age\": 30,\n",
    "    \"city\": \"New York\"\n",
    "}\n"
   ]
  },
  {
   "cell_type": "code",
   "execution_count": 6,
   "id": "9ccb9269-cc48-44d6-82e3-95370e7d6fd2",
   "metadata": {},
   "outputs": [
    {
     "name": "stdout",
     "output_type": "stream",
     "text": [
      "1\n",
      "2\n",
      "3\n",
      "4\n",
      "5\n"
     ]
    }
   ],
   "source": [
    "#Q4A for loop in Python is a control flow statement that allows  to iterate over a sequence of items, such as a list, tuple, string. \n",
    "#it executes a block of code for each item in the sequence.\n",
    "\n",
    "for i in range(1, 6):\n",
    "    print(i)\n"
   ]
  },
  {
   "cell_type": "code",
   "execution_count": null,
   "id": "5a432584-d075-440c-a2a6-392fe64425e6",
   "metadata": {},
   "outputs": [],
   "source": [
    "#Q5\n",
    "#Exception handling in Python manages errors, preventing crashes. \n",
    "#try blocks execute potentially problematic code, \n",
    "#except blocks handle only specific errors, \n",
    "#and finally blocks execute cleanup code."
   ]
  },
  {
   "cell_type": "code",
   "execution_count": 8,
   "id": "ce4d51f8-1e01-4f04-97d8-ca40c1cea595",
   "metadata": {},
   "outputs": [
    {
     "name": "stdout",
     "output_type": "stream",
     "text": [
      "The square root of 16 is: 4.0\n",
      "The value of pi is: 3.141592653589793\n"
     ]
    }
   ],
   "source": [
    "#q6\n",
    "#Python modules are files containing Python code that define functions,\n",
    "#classes, and variables. \n",
    "#They allow you to organize your code into manageable sections.\n",
    "\n",
    "\n",
    "#import math: This imports the entire math module.\n",
    "#from math import sqrt: This imports only the sqrt function from the math module.\n",
    "import math\n",
    "result = math.sqrt(16)\n",
    "print(\"The square root of 16 is:\", result)\n",
    "\n",
    "pi_value = math.pi\n",
    "print(\"The value of pi is:\", pi_value)\n",
    "\n",
    "\n",
    "\n"
   ]
  },
  {
   "cell_type": "code",
   "execution_count": 9,
   "id": "b602f0f8-c8d0-4b48-8c5e-3f9569395389",
   "metadata": {},
   "outputs": [
    {
     "name": "stdout",
     "output_type": "stream",
     "text": [
      "The square root of 25 is: 5.0\n"
     ]
    }
   ],
   "source": [
    "from math import sqrt\n",
    "\n",
    "result = sqrt(25)\n",
    "print(\"The square root of 25 is:\", result)"
   ]
  },
  {
   "cell_type": "code",
   "execution_count": null,
   "id": "23aa64c9-aa20-4604-8c12-40ec690f9f17",
   "metadata": {},
   "outputs": [],
   "source": [
    "#Q7\n",
    "#OOPin Python is a programming paradigm that structures code around\n",
    "#objects which are instances of classes. \n",
    "\n",
    "\n",
    "#Classes: Blueprints or templates for creating objects. \n",
    "#They define the attributes (data) and methods (behavior) that objects of that class will have.\n",
    "\n",
    "#Objects: Instances of a class. \n",
    "#They are created based on the class blueprint.\n"
   ]
  },
  {
   "cell_type": "code",
   "execution_count": 13,
   "id": "8cf5184a-0ba4-47ba-a77f-5945a22b691e",
   "metadata": {},
   "outputs": [],
   "source": [
    "#Q8\n",
    "#list comprehension\n",
    "#List comprehension in Python is a concise way to create lists. \n",
    "#It combines a for loop and optional if condition(s) into a single line of code.\n",
    "\n",
    "result = [x * 2 for x in range(10) if x % 2 == 0]\n"
   ]
  },
  {
   "cell_type": "code",
   "execution_count": 14,
   "id": "ab7b3caa-8a8e-4adf-9d91-782832ec5059",
   "metadata": {},
   "outputs": [
    {
     "name": "stdout",
     "output_type": "stream",
     "text": [
      "The area of the circle with radius 5 is 78.54\n"
     ]
    }
   ],
   "source": [
    "#Q9 \n",
    "import math\n",
    "\n",
    "def calculate_area(radius):\n",
    "    return math.pi * radius ** 2\n",
    "\n",
    "radius = 5\n",
    "area = calculate_area(radius)\n",
    "print(f\"The area of the circle with radius {radius} is {area:.2f}\")\n"
   ]
  },
  {
   "cell_type": "code",
   "execution_count": 16,
   "id": "8e291503-9bf4-4903-a163-c594c68ccc1a",
   "metadata": {},
   "outputs": [
    {
     "name": "stdin",
     "output_type": "stream",
     "text": [
      "What is your name?  vanshika\n",
      "How old are you?  20\n"
     ]
    },
    {
     "name": "stdout",
     "output_type": "stream",
     "text": [
      "Hello vanshika, you are 20 years old!\n"
     ]
    }
   ],
   "source": [
    "#Q10\n",
    "name = input(\"What is your name? \")\n",
    "age = input(\"How old are you? \")\n",
    "\n",
    "print(f\"Hello {name}, you are {age} years old!\")\n"
   ]
  },
  {
   "cell_type": "code",
   "execution_count": 17,
   "id": "cb465ff4-d6a3-4183-8cef-461c0540210f",
   "metadata": {},
   "outputs": [
    {
     "name": "stdout",
     "output_type": "stream",
     "text": [
      "1. Apple\n",
      "2. Banana\n",
      "3. Cherry\n",
      "4. Mango\n",
      "5. Orange\n"
     ]
    }
   ],
   "source": [
    "#Q11\n",
    "fruits = [\"Apple\", \"Banana\", \"Cherry\", \"Mango\", \"Orange\"]\n",
    "for i in range(len(fruits)):\n",
    "    print(f\"{i + 1}. {fruits[i]}\")\n"
   ]
  },
  {
   "cell_type": "code",
   "execution_count": 18,
   "id": "fda83fcb-e911-4e4c-9b09-3f150bc871aa",
   "metadata": {},
   "outputs": [
    {
     "name": "stdout",
     "output_type": "stream",
     "text": [
      "A\n",
      "B\n",
      "F\n"
     ]
    }
   ],
   "source": [
    "#Q12\n",
    "def grade_calculator(score):\n",
    "    if 90 <= score <= 100:\n",
    "        return \"A\"\n",
    "    elif 80 <= score < 90:\n",
    "        return \"B\"\n",
    "    elif 70 <= score < 80:\n",
    "        return \"C\"\n",
    "    elif 60 <= score < 70:\n",
    "        return \"D\"\n",
    "    else:\n",
    "        return \"F\"\n",
    "\n",
    "print(grade_calculator(95))  \n",
    "print(grade_calculator(82)) \n",
    "print(grade_calculator(58))"
   ]
  },
  {
   "cell_type": "code",
   "execution_count": 20,
   "id": "62dd90b6-9cf8-4c0d-8738-e749af992e8d",
   "metadata": {},
   "outputs": [
    {
     "name": "stdout",
     "output_type": "stream",
     "text": [
      "Error: 'numbers.txt' not found.\n"
     ]
    }
   ],
   "source": [
    "#Q13\n",
    "try:\n",
    "    with open(\"numbers.txt\", \"r\") as f:\n",
    "        total = sum(float(line) for line in f)\n",
    "    with open(\"result.txt\", \"w\") as f:\n",
    "        f.write(f\"Total sum: {total}\")\n",
    "except FileNotFoundError:\n",
    "    print(\"Error: 'numbers.txt' not found.\")\n",
    "except ValueError:\n",
    "    print(\"Error: File contains non-numeric data.\")\n",
    "except Exception as e:\n",
    "    print(f\"An error occurred: {e}\")\n"
   ]
  },
  {
   "cell_type": "code",
   "execution_count": 21,
   "id": "3741f53c-c691-4b1f-bd27-ec3de1be5133",
   "metadata": {},
   "outputs": [],
   "source": [
    "#q14\n",
    "class BankAccount:\n",
    "    def __init__(self, name, balance):\n",
    "        self.name = name\n",
    "        self.balance = balance\n",
    "\n",
    "    def deposit(self, amount):\n",
    "        self.balance += amount\n",
    "        print(f\"Deposited: ${amount}\")\n",
    "\n",
    "    def withdraw(self, amount):\n",
    "        if amount > self.balance:\n",
    "            print(\"Insufficient balance.\")\n",
    "        else:\n",
    "            self.balance -= amount\n",
    "            print(f\"Withdrew: ${amount}\")\n",
    "\n",
    "    def display_balance(self):\n",
    "        print(f\"{self.name}'s current balance: ${self.balance}\")\n",
    "\n",
    "account = BankAccount(\"vanshika\", 1000)"
   ]
  },
  {
   "cell_type": "code",
   "execution_count": 22,
   "id": "4f13ba02-239a-40d6-9fd1-4cc634b43c67",
   "metadata": {},
   "outputs": [
    {
     "name": "stdout",
     "output_type": "stream",
     "text": [
      "Deposited: $500\n"
     ]
    }
   ],
   "source": [
    "account.deposit(500)       \n"
   ]
  },
  {
   "cell_type": "code",
   "execution_count": 23,
   "id": "f38a4525-94fa-4991-92d0-205b9615c5ca",
   "metadata": {},
   "outputs": [
    {
     "name": "stdout",
     "output_type": "stream",
     "text": [
      "Withdrew: $300\n"
     ]
    }
   ],
   "source": [
    "account.withdraw(300)     \n",
    " "
   ]
  },
  {
   "cell_type": "code",
   "execution_count": 24,
   "id": "f6e81adc-dbf4-4349-b98c-67735b42d376",
   "metadata": {},
   "outputs": [
    {
     "name": "stdout",
     "output_type": "stream",
     "text": [
      "vanshika's current balance: $1200\n"
     ]
    }
   ],
   "source": [
    "  \n",
    "account.display_balance() "
   ]
  },
  {
   "cell_type": "code",
   "execution_count": null,
   "id": "1ecffcd1-43af-4c0f-a792-a800aaf15e0c",
   "metadata": {},
   "outputs": [],
   "source": []
  }
 ],
 "metadata": {
  "kernelspec": {
   "display_name": "Python 3 (ipykernel)",
   "language": "python",
   "name": "python3"
  },
  "language_info": {
   "codemirror_mode": {
    "name": "ipython",
    "version": 3
   },
   "file_extension": ".py",
   "mimetype": "text/x-python",
   "name": "python",
   "nbconvert_exporter": "python",
   "pygments_lexer": "ipython3",
   "version": "3.12.7"
  }
 },
 "nbformat": 4,
 "nbformat_minor": 5
}
