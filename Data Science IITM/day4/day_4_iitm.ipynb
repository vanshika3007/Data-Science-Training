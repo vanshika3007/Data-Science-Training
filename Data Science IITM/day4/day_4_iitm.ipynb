{
 "cells": [
  {
   "cell_type": "code",
   "execution_count": 16,
   "id": "dff8d0ee-408c-4265-a69f-b62e667b361b",
   "metadata": {},
   "outputs": [
    {
     "name": "stdout",
     "output_type": "stream",
     "text": [
      "hi vanshika\n"
     ]
    }
   ],
   "source": [
    "print('hi vanshika')"
   ]
  },
  {
   "cell_type": "code",
   "execution_count": 17,
   "id": "69e6764d-4de4-4d65-8fd5-5a96d4fe5913",
   "metadata": {},
   "outputs": [
    {
     "name": "stdout",
     "output_type": "stream",
     "text": [
      "done\n"
     ]
    }
   ],
   "source": [
    "#mode:\n",
    "#write:w\n",
    "#new file write/create\n",
    "\n",
    "f = open('day_4.txt',mode = 'w')\n",
    "f.write('hi')\n",
    "f.close\n",
    "print('done')"
   ]
  },
  {
   "cell_type": "code",
   "execution_count": 20,
   "id": "d507429c-7113-4a2a-8dcf-dd460e221439",
   "metadata": {},
   "outputs": [],
   "source": [
    "#pip install googlesearch-python"
   ]
  },
  {
   "cell_type": "code",
   "execution_count": 6,
   "id": "029a9abb-9d92-4f53-a133-09b5818378c9",
   "metadata": {},
   "outputs": [
    {
     "data": {
      "text/plain": [
       "['https://www.ibm.com/think/topics/data-science',\n",
       " 'https://en.wikipedia.org/wiki/Data_science',\n",
       " 'https://www.coursera.org/browse/data-science',\n",
       " 'https://www.youtube.com/watch?v=OivTPt5LQh0',\n",
       " 'https://www.w3schools.com/datascience/',\n",
       " 'https://www.geeksforgeeks.org/data-science/data-science/',\n",
       " 'https://aws.amazon.com/what-is/data-science/',\n",
       " 'https://ischoolonline.berkeley.edu/data-science/what-is-data-science/',\n",
       " 'https://builtin.com/data-science',\n",
       " 'https://www.codecademy.com/catalog/subject/data-science']"
      ]
     },
     "execution_count": 6,
     "metadata": {},
     "output_type": "execute_result"
    }
   ],
   "source": [
    "from googlesearch import search\n",
    "list(search('data science',num_results=10))"
   ]
  },
  {
   "cell_type": "code",
   "execution_count": 7,
   "id": "aea916ac-2fe9-4634-a141-2f5d251411ce",
   "metadata": {},
   "outputs": [
    {
     "name": "stdout",
     "output_type": "stream",
     "text": [
      "https://www.google.com/search?num=12\n",
      "/search?num=12\n",
      "https://cloud.google.com/learn/artificial-intelligence-vs-machine-learning\n",
      "https://www.redhat.com/en/blog/what-aiml-and-why-does-it-matter-your-business\n",
      "https://www.w3schools.com/ai/\n",
      "https://ai.engineering.columbia.edu/ai-vs-machine-learning/\n",
      "https://azure.microsoft.com/en-us/resources/cloud-computing-dictionary/artificial-intelligence-vs-machine-learning\n",
      "https://aws.amazon.com/training/learn-about/machine-learning/\n",
      "https://www.geeksforgeeks.org/machine-learning/machine-learning/\n",
      "https://en.wikipedia.org/wiki/Machine_learning\n",
      "done\n"
     ]
    }
   ],
   "source": [
    "from googlesearch import search\n",
    "title ='AI ML'\n",
    "\n",
    "data = search(title,num_results=10)\n",
    "\n",
    "all_data =[]\n",
    "\n",
    "for i in data:\n",
    "    print(i)\n",
    "    all_data.append(i+'\\n')\n",
    "\n",
    "file = open (f'{title}.txt',mode = 'w')\n",
    "file.writelines(all_data)\n",
    "file.close()\n",
    "print('done')"
   ]
  },
  {
   "cell_type": "code",
   "execution_count": 18,
   "id": "736f079b-340c-48db-a659-d04b992ab1fc",
   "metadata": {},
   "outputs": [
    {
     "name": "stdout",
     "output_type": "stream",
     "text": [
      "done\n"
     ]
    }
   ],
   "source": [
    "from googlesearch import search\n",
    "title =' MjkL'\n",
    "\n",
    "data = search(title,num_results=10)\n",
    "\n",
    "all_data =[]\n",
    "\n",
    "for i in data:\n",
    "   # print(i)\n",
    "    all_data.append(i+'\\n')\n",
    "\n",
    "    #mode = x: it only create new file\n",
    "\n",
    "file = open (f'{title}.txt',mode = 'x')\n",
    "file.writelines(all_data)\n",
    "file.close()\n",
    "print('done')"
   ]
  },
  {
   "cell_type": "code",
   "execution_count": 26,
   "id": "bda52235-40f9-4b4a-b3fb-7bc5b92eb219",
   "metadata": {},
   "outputs": [
    {
     "name": "stdout",
     "output_type": "stream",
     "text": [
      "done\n"
     ]
    }
   ],
   "source": [
    "from googlesearch import search\n",
    "title ='chatgpt trends'\n",
    "\n",
    "data = search(title,num_results=5)\n",
    "\n",
    "all_data =[]\n",
    "\n",
    "for i in data:\n",
    "     #print(i)\n",
    "    all_data.append(i+'\\n')\n",
    "\n",
    "#mode= a: it will append new line \n",
    "file = open (f'{title}.txt',mode = 'a')\n",
    "file.write('=====================================================\\n')\n",
    "file.writelines(all_data)\n",
    "file.close()\n",
    "print('done')"
   ]
  },
  {
   "cell_type": "code",
   "execution_count": 27,
   "id": "ac587402-90ff-4f4c-947f-37908c41faca",
   "metadata": {},
   "outputs": [],
   "source": [
    "#mode = +  used tp read and write a file \n",
    "\n"
   ]
  },
  {
   "cell_type": "code",
   "execution_count": 28,
   "id": "0ec32611-1e8f-476e-83f7-04a33575a63a",
   "metadata": {},
   "outputs": [
    {
     "ename": "UnsupportedOperation",
     "evalue": "not readable",
     "output_type": "error",
     "traceback": [
      "\u001b[1;31m---------------------------------------------------------------------------\u001b[0m",
      "\u001b[1;31mUnsupportedOperation\u001b[0m                      Traceback (most recent call last)",
      "Cell \u001b[1;32mIn[28], line 2\u001b[0m\n\u001b[0;32m      1\u001b[0m f \u001b[38;5;241m=\u001b[39m \u001b[38;5;28mopen\u001b[39m(\u001b[38;5;124m'\u001b[39m\u001b[38;5;124mnew.txt\u001b[39m\u001b[38;5;124m'\u001b[39m,\u001b[38;5;124m'\u001b[39m\u001b[38;5;124mw\u001b[39m\u001b[38;5;124m'\u001b[39m)\n\u001b[1;32m----> 2\u001b[0m \u001b[38;5;28mprint\u001b[39m(f\u001b[38;5;241m.\u001b[39mread())\n\u001b[0;32m      3\u001b[0m f\u001b[38;5;241m.\u001b[39mclose()\n",
      "\u001b[1;31mUnsupportedOperation\u001b[0m: not readable"
     ]
    }
   ],
   "source": [
    "f = open('new.txt','w')\n",
    "print(f.read())\n",
    "f.close()"
   ]
  },
  {
   "cell_type": "code",
   "execution_count": 29,
   "id": "f7d77c84-f370-4cc6-a22a-387366dc20c3",
   "metadata": {},
   "outputs": [
    {
     "name": "stdout",
     "output_type": "stream",
     "text": [
      "5\n"
     ]
    }
   ],
   "source": [
    "f = open('day_4.txt','w')\n",
    "print(f.write('hello'))\n",
    "f.close()"
   ]
  },
  {
   "cell_type": "code",
   "execution_count": 32,
   "id": "d8e81d75-8c98-4f66-bb28-3778a4c15b23",
   "metadata": {},
   "outputs": [
    {
     "name": "stdout",
     "output_type": "stream",
     "text": [
      "\n"
     ]
    }
   ],
   "source": [
    "f = open('day_4.txt','r+')\n",
    "print(f.read())\n",
    "f.write('this is a new line!!')\n",
    "f.close()"
   ]
  },
  {
   "cell_type": "code",
   "execution_count": 39,
   "id": "e60a569f-43d5-4520-a3f9-90ae8849bafd",
   "metadata": {},
   "outputs": [
    {
     "name": "stdout",
     "output_type": "stream",
     "text": [
      "this is DS training!!\n",
      "done\n"
     ]
    }
   ],
   "source": [
    "#mode= w+ used to write then read\n",
    "f = open('day_4.txt','w+')\n",
    "f.write('this is DS training!!')\n",
    "f.seek(0)\n",
    "print(f.read())\n",
    "f.close()\n",
    "print('done')"
   ]
  },
  {
   "cell_type": "code",
   "execution_count": 43,
   "id": "ffe571af-1edb-4d87-a53d-60467faab6c0",
   "metadata": {},
   "outputs": [
    {
     "name": "stdout",
     "output_type": "stream",
     "text": [
      "done\n"
     ]
    }
   ],
   "source": [
    "f1 = open('day_4.txt','r')\n",
    "all_data = f1.read()\n",
    "f2 = open('day_4_copy.txt','w')\n",
    "\n",
    "f2.write(all_data)\n",
    "f1.close()\n",
    "f2.close()\n",
    "print('done')"
   ]
  },
  {
   "cell_type": "code",
   "execution_count": 44,
   "id": "d2d583bb-1109-4324-a2c8-c080bdd11678",
   "metadata": {},
   "outputs": [
    {
     "name": "stdout",
     "output_type": "stream",
     "text": [
      "jjjjjjjjjjjjjjjjjjjjjjjjjjjjjjjjjjjjjjjj\n"
     ]
    }
   ],
   "source": [
    "print('jjjjjjjjjjjjjjjjjjjjjjjjjjjjjjjjjjjjjjjj')"
   ]
  },
  {
   "cell_type": "code",
   "execution_count": null,
   "id": "8ca4b763-e052-4000-b222-6d3d220d6d15",
   "metadata": {},
   "outputs": [],
   "source": []
  },
  {
   "cell_type": "code",
   "execution_count": null,
   "id": "6fd85c42-4f7f-4dad-91ce-3edb4cfbdf5a",
   "metadata": {},
   "outputs": [],
   "source": []
  }
 ],
 "metadata": {
  "kernelspec": {
   "display_name": "Python 3 (ipykernel)",
   "language": "python",
   "name": "python3"
  },
  "language_info": {
   "codemirror_mode": {
    "name": "ipython",
    "version": 3
   },
   "file_extension": ".py",
   "mimetype": "text/x-python",
   "name": "python",
   "nbconvert_exporter": "python",
   "pygments_lexer": "ipython3",
   "version": "3.12.7"
  }
 },
 "nbformat": 4,
 "nbformat_minor": 5
}
