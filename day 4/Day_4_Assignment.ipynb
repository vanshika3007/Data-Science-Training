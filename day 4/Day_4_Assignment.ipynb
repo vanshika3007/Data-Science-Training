{
 "cells": [
  {
   "cell_type": "code",
   "execution_count": 1,
   "id": "dba23f0e-888b-49c9-b5df-a30b59e2f721",
   "metadata": {},
   "outputs": [
    {
     "name": "stdout",
     "output_type": "stream",
     "text": [
      "Top 10 results saved to govt_jobs.txt\n"
     ]
    }
   ],
   "source": [
    "import requests\n",
    "from bs4 import BeautifulSoup\n",
    "\n",
    "query = \"Government Jobs 2025\"\n",
    "url = f\"https://duckduckgo.com/html/?q={query.replace(' ', '+')}\"\n",
    "\n",
    "response = requests.get(url)\n",
    "soup = BeautifulSoup(response.text, \"html.parser\")\n",
    "\n",
    "results = soup.find_all('a', class_='result__a', limit=10)\n",
    "with open(\"govt_jobs.txt\", \"w\") as f:\n",
    "    for i, link in enumerate(results, 1):\n",
    "        f.write(f\"{i}. {link.get('href')}\\n\")\n",
    "\n",
    "print(\"Top 10 results saved to govt_jobs.txt\")\n"
   ]
  },
  {
   "cell_type": "code",
   "execution_count": 2,
   "id": "c0a2adc6-752f-4173-bf36-3e130b6cfd08",
   "metadata": {},
   "outputs": [
    {
     "name": "stdout",
     "output_type": "stream",
     "text": [
      "5 images downloaded.\n"
     ]
    }
   ],
   "source": [
    "import requests\n",
    "\n",
    "for i in range(1, 6):\n",
    "    img_url = \"https://picsum.photos/200/300\"\n",
    "    img_data = requests.get(img_url).content\n",
    "    with open(f\"image_{i}.jpg\", \"wb\") as f:\n",
    "        f.write(img_data)\n",
    "\n",
    "print(\"5 images downloaded.\")\n"
   ]
  },
  {
   "cell_type": "code",
   "execution_count": 3,
   "id": "f50dfe69-635e-4297-8974-6dd33557fb9c",
   "metadata": {},
   "outputs": [
    {
     "name": "stdout",
     "output_type": "stream",
     "text": [
      "Student data saved.\n"
     ]
    }
   ],
   "source": [
    "class Student:\n",
    "    def __init__(self, name, roll_no, marks):\n",
    "        self.name = name\n",
    "        self.roll_no = roll_no\n",
    "        self.marks = marks\n",
    "\n",
    "    def grade(self):\n",
    "        return 'A' if self.marks >= 75 else 'B' if self.marks >= 50 else 'C'\n",
    "\n",
    "s = Student(\"Riya\", 101, 82)\n",
    "\n",
    "with open(\"students.txt\", \"a\") as f:\n",
    "    f.write(f\"{s.name}, {s.roll_no}, {s.marks}, Grade: {s.grade()}\\n\")\n",
    "\n",
    "print(\"Student data saved.\")\n"
   ]
  },
  {
   "cell_type": "code",
   "execution_count": 4,
   "id": "dfba9067-a9d5-4427-85ec-a4258dfd2df0",
   "metadata": {},
   "outputs": [
    {
     "name": "stdout",
     "output_type": "stream",
     "text": [
      "Backup of .py files complete.\n"
     ]
    }
   ],
   "source": [
    "import os, shutil\n",
    "\n",
    "if not os.path.exists(\"backup\"):\n",
    "    os.mkdir(\"backup\")\n",
    "\n",
    "for file in os.listdir():\n",
    "    if file.endswith(\".py\"):\n",
    "        shutil.copy(file, \"backup\")\n",
    "\n",
    "print(\"Backup of .py files complete.\")"
   ]
  },
  {
   "cell_type": "code",
   "execution_count": 5,
   "id": "c6da44a6-c509-4f05-877e-952ebcc92d50",
   "metadata": {},
   "outputs": [
    {
     "name": "stdout",
     "output_type": "stream",
     "text": [
      "('Harry Potter', 'J.K. Rowling', 1997)\n"
     ]
    }
   ],
   "source": [
    "import sqlite3\n",
    "\n",
    "conn = sqlite3.connect(\"books.db\")\n",
    "cursor = conn.cursor()\n",
    "\n",
    "cursor.execute('''CREATE TABLE IF NOT EXISTS books\n",
    "               (title TEXT, author TEXT, year INTEGER)''')\n",
    "\n",
    "# Add a book\n",
    "cursor.execute(\"INSERT INTO books VALUES (?, ?, ?)\", (\"Harry Potter\", \"J.K. Rowling\", 1997))\n",
    "\n",
    "# View books\n",
    "cursor.execute(\"SELECT * FROM books\")\n",
    "for row in cursor.fetchall():\n",
    "    print(row)\n",
    "\n",
    "conn.commit()\n",
    "conn.close()"
   ]
  },
  {
   "cell_type": "code",
   "execution_count": null,
   "id": "a7867299-66c5-4ba0-be29-51adb684c67b",
   "metadata": {},
   "outputs": [],
   "source": []
  }
 ],
 "metadata": {
  "kernelspec": {
   "display_name": "Python 3 (ipykernel)",
   "language": "python",
   "name": "python3"
  },
  "language_info": {
   "codemirror_mode": {
    "name": "ipython",
    "version": 3
   },
   "file_extension": ".py",
   "mimetype": "text/x-python",
   "name": "python",
   "nbconvert_exporter": "python",
   "pygments_lexer": "ipython3",
   "version": "3.12.7"
  }
 },
 "nbformat": 4,
 "nbformat_minor": 5
}
