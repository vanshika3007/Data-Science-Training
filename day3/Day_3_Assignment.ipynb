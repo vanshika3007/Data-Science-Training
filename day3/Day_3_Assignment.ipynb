{
 "cells": [
  {
   "cell_type": "code",
   "execution_count": 1,
   "id": "3e2d8e76-9219-42c5-b73a-0d49a84f9303",
   "metadata": {},
   "outputs": [
    {
     "name": "stdout",
     "output_type": "stream",
     "text": [
      "Writing mathhelper.py\n"
     ]
    }
   ],
   "source": [
    "%%writefile mathhelper.py\n",
    "\n",
    "def is_prime(n):\n",
    "    if n < 2:\n",
    "        return False\n",
    "    for i in range(2, int(n**0.5) + 1):\n",
    "        if n % i == 0:\n",
    "            return False\n",
    "    return True\n",
    "\n",
    "def factorial(n):\n",
    "    result = 1\n",
    "    for i in range(2, n + 1):\n",
    "        result *= i\n",
    "    return result\n",
    "\n",
    "def fibonacci(n):\n",
    "    fib = [0, 1]\n",
    "    for i in range(2, n):\n",
    "        fib.append(fib[-1] + fib[-2])\n",
    "    return fib[:n]\n"
   ]
  },
  {
   "cell_type": "code",
   "execution_count": 2,
   "id": "e0a6c897-36e2-4750-b7bc-030fd9937af2",
   "metadata": {},
   "outputs": [
    {
     "name": "stdout",
     "output_type": "stream",
     "text": [
      "Is 7 prime? True\n",
      "Factorial of 5: 120\n",
      "Fibonacci (first 7): [0, 1, 1, 2, 3, 5, 8]\n"
     ]
    }
   ],
   "source": [
    "import mathhelper\n",
    "\n",
    "print(\"Is 7 prime?\", mathhelper.is_prime(7))\n",
    "print(\"Factorial of 5:\", mathhelper.factorial(5))\n",
    "print(\"Fibonacci (first 7):\", mathhelper.fibonacci(7))\n"
   ]
  },
  {
   "cell_type": "code",
   "execution_count": 3,
   "id": "892a8371-b859-4c8d-a540-b2a5b2b542ed",
   "metadata": {},
   "outputs": [
    {
     "name": "stdin",
     "output_type": "stream",
     "text": [
      "Enter first number:  33\n",
      "Enter second number:  66\n",
      "Enter operator (+, -, *, /):  -\n"
     ]
    },
    {
     "name": "stdout",
     "output_type": "stream",
     "text": [
      "Result: -33.0\n"
     ]
    }
   ],
   "source": [
    "def safe_calculator():\n",
    "    try:\n",
    "        a = float(input(\"Enter first number: \"))\n",
    "        b = float(input(\"Enter second number: \"))\n",
    "        op = input(\"Enter operator (+, -, *, /): \")\n",
    "\n",
    "        if op == '+':\n",
    "            print(\"Result:\", a + b)\n",
    "        elif op == '-':\n",
    "            print(\"Result:\", a - b)\n",
    "        elif op == '*':\n",
    "            print(\"Result:\", a * b)\n",
    "        elif op == '/':\n",
    "            print(\"Result:\", a / b)\n",
    "        else:\n",
    "            print(\"Invalid operator\")\n",
    "\n",
    "    except ZeroDivisionError:\n",
    "        print(\"❌ Cannot divide by zero\")\n",
    "    except ValueError:\n",
    "        print(\"❌ Invalid input, please enter numbers only\")\n",
    "\n",
    "safe_calculator()\n"
   ]
  },
  {
   "cell_type": "code",
   "execution_count": 5,
   "id": "f1c723b5-b49c-4fae-8856-722ab09888c2",
   "metadata": {},
   "outputs": [
    {
     "name": "stdout",
     "output_type": "stream",
     "text": [
      "\n",
      "First 5 lines:\n",
      "1: \n",
      "2: def is_prime(n):\n",
      "3: if n < 2:\n",
      "4: return False\n",
      "5: for i in range(2, int(n**0.5) + 1):\n"
     ]
    }
   ],
   "source": [
    "def read_file_lines(filename):\n",
    "    try:\n",
    "        with open(filename, 'r') as file:\n",
    "            print(\"\\nFirst 5 lines:\")\n",
    "            for i in range(5):\n",
    "                line = file.readline()\n",
    "                if line:\n",
    "                    print(f\"{i+1}: {line.strip()}\")\n",
    "                else:\n",
    "                    break\n",
    "    except FileNotFoundError:\n",
    "        print(\"❌ File not found!\")\n",
    "\n",
    "read_file_lines(\"mathhelper.py\")\n"
   ]
  },
  {
   "cell_type": "code",
   "execution_count": 6,
   "id": "966d92fc-66fc-4775-8922-f295a25a35f7",
   "metadata": {},
   "outputs": [
    {
     "name": "stdout",
     "output_type": "stream",
     "text": [
      "Writing quiz.txt\n"
     ]
    }
   ],
   "source": [
    "%%writefile quiz.txt\n",
    "What is the capital of India?,Delhi\n",
    "What is 2 + 2?,4\n",
    "Which planet is known as Red Planet?,Mars\n"
   ]
  },
  {
   "cell_type": "code",
   "execution_count": 7,
   "id": "99673eb6-5971-49d8-bc2d-faaf46e8c9fc",
   "metadata": {},
   "outputs": [
    {
     "name": "stdin",
     "output_type": "stream",
     "text": [
      "What is the capital of India?  delhi\n",
      "What is 2 + 2?  4\n",
      "Which planet is known as Red Planet?  mars\n"
     ]
    },
    {
     "name": "stdout",
     "output_type": "stream",
     "text": [
      "\n",
      "✅ Your score is: 3\n"
     ]
    }
   ],
   "source": [
    "def play_quiz():\n",
    "    score = 0\n",
    "    try:\n",
    "        with open(\"quiz.txt\", 'r') as file:\n",
    "            for line in file:\n",
    "                q, ans = line.strip().split(',')\n",
    "                user_ans = input(q + \" \")\n",
    "                if user_ans.strip().lower() == ans.strip().lower():\n",
    "                    score += 1\n",
    "        with open(\"score.txt\", 'w') as score_file:\n",
    "            score_file.write(f\"Score: {score}\\n\")\n",
    "        print(f\"\\n Your score is: {score}\")\n",
    "    except Exception as e:\n",
    "        print(\"❌ Error:\", e)\n",
    "\n",
    "play_quiz()\n"
   ]
  },
  {
   "cell_type": "code",
   "execution_count": 8,
   "id": "56140122-a611-4dfc-a13d-a6098a85e6a3",
   "metadata": {},
   "outputs": [
    {
     "name": "stdin",
     "output_type": "stream",
     "text": [
      "Enter a number:  6\n"
     ]
    },
    {
     "name": "stdout",
     "output_type": "stream",
     "text": [
      "Result: 1.6666666666666667\n",
      " Cleanup done.\n"
     ]
    }
   ],
   "source": [
    "import datetime\n",
    "\n",
    "def risky_code():\n",
    "    try:\n",
    "        x = int(input(\"Enter a number: \"))\n",
    "        y = 10 / x\n",
    "        print(\"Result:\", y)\n",
    "    except Exception as e:\n",
    "        with open(\"error_log.txt\", 'a') as log:\n",
    "            log.write(f\"{datetime.datetime.now()} - {type(e).__name__}: {e}\\n\")\n",
    "        print(\"❌ An error occurred. Logged to file.\")\n",
    "    finally:\n",
    "        print(\" Cleanup done.\")\n",
    "\n",
    "risky_code()\n"
   ]
  },
  {
   "cell_type": "code",
   "execution_count": null,
   "id": "73bf3aa3-b9cd-462d-84c0-a2050da367b3",
   "metadata": {},
   "outputs": [],
   "source": []
  }
 ],
 "metadata": {
  "kernelspec": {
   "display_name": "Python 3 (ipykernel)",
   "language": "python",
   "name": "python3"
  },
  "language_info": {
   "codemirror_mode": {
    "name": "ipython",
    "version": 3
   },
   "file_extension": ".py",
   "mimetype": "text/x-python",
   "name": "python",
   "nbconvert_exporter": "python",
   "pygments_lexer": "ipython3",
   "version": "3.12.7"
  }
 },
 "nbformat": 4,
 "nbformat_minor": 5
}
