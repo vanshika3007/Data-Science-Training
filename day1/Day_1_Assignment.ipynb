{
 "cells": [
  {
   "cell_type": "code",
   "execution_count": 1,
   "id": "57314384-b42d-4726-988a-16f755ee72ad",
   "metadata": {},
   "outputs": [
    {
     "name": "stdout",
     "output_type": "stream",
     "text": [
      "Indian Monthly Budget Calculator\n"
     ]
    },
    {
     "name": "stdin",
     "output_type": "stream",
     "text": [
      "Enter monthly rent (₹):  24000\n",
      "Enter food expenses (₹):  3000\n",
      "Enter transport cost (₹):  6000\n",
      "Enter utilities (electricity, gas, water) (₹):  20000\n",
      "Enter education expenses (₹):  10000\n",
      "Enter entertainment budget (₹):  20000\n"
     ]
    },
    {
     "name": "stdout",
     "output_type": "stream",
     "text": [
      "\n",
      "Budget Summary:\n",
      "Rent: ₹24,000.00\n",
      "Food: ₹3,000.00\n",
      "Transport: ₹6,000.00\n",
      "Utilities: ₹20,000.00\n",
      "Education: ₹10,000.00\n",
      "Entertainment: ₹20,000.00\n",
      "==============================\n",
      "Total Monthly Budget: ₹83,000.00\n"
     ]
    },
    {
     "name": "stdin",
     "output_type": "stream",
     "text": [
      "\n",
      "Enter your monthly income (₹):  100000\n"
     ]
    },
    {
     "name": "stdout",
     "output_type": "stream",
     "text": [
      "\n",
      "Great! You can save ₹17,000.00 per month\n",
      "Annual savings potential: ₹204,000.00\n"
     ]
    }
   ],
   "source": [
    "def indian_budget_calculator():\n",
    "    print(\"Indian Monthly Budget Calculator\")\n",
    "    \n",
    "    # Input expenses\n",
    "    rent = float(input(\"Enter monthly rent (₹): \"))\n",
    "    food = float(input(\"Enter food expenses (₹): \"))\n",
    "    transport = float(input(\"Enter transport cost (₹): \"))\n",
    "    utilities = float(input(\"Enter utilities (electricity, gas, water) (₹): \"))\n",
    "    education = float(input(\"Enter education expenses (₹): \"))\n",
    "    entertainment = float(input(\"Enter entertainment budget (₹): \"))\n",
    "\n",
    "    # Calculate total\n",
    "    total_expenses = rent + food + transport + utilities + education + entertainment\n",
    "\n",
    "    # Display budget summary\n",
    "    print(\"\\nBudget Summary:\")\n",
    "    print(f\"Rent: ₹{rent:,.2f}\")\n",
    "    print(f\"Food: ₹{food:,.2f}\")\n",
    "    print(f\"Transport: ₹{transport:,.2f}\")\n",
    "    print(f\"Utilities: ₹{utilities:,.2f}\")\n",
    "    print(f\"Education: ₹{education:,.2f}\")\n",
    "    print(f\"Entertainment: ₹{entertainment:,.2f}\")\n",
    "    print(\"=\"*30)\n",
    "    print(f\"Total Monthly Budget: ₹{total_expenses:,.2f}\")\n",
    "\n",
    "    # Savings recommendation\n",
    "    income = float(input(\"\\nEnter your monthly income (₹): \"))\n",
    "    savings = income - total_expenses\n",
    "\n",
    "    if savings > 0:\n",
    "        print(f\"\\nGreat! You can save ₹{savings:,.2f} per month\")\n",
    "        print(f\"Annual savings potential: ₹{savings*12:,.2f}\")\n",
    "    else:\n",
    "        print(f\"\\nYou're overspending by ₹{abs(savings):,.2f}\")\n",
    "        print(\"Consider reducing expenses!\")\n",
    "\n",
    "# Run the calculator\n",
    "indian_budget_calculator()\n"
   ]
  },
  {
   "cell_type": "code",
   "execution_count": 2,
   "id": "e0836911-5694-42c1-b9e3-1693dc5dbcc8",
   "metadata": {},
   "outputs": [
    {
     "name": "stdout",
     "output_type": "stream",
     "text": [
      "Indian Voter Eligibility Checker\n"
     ]
    },
    {
     "name": "stdin",
     "output_type": "stream",
     "text": [
      "Enter your name:  vanshika bhardwaj\n",
      "Enter your age:  20\n",
      "Are you an Indian citizen? (yes/no):  yes\n"
     ]
    },
    {
     "name": "stdout",
     "output_type": "stream",
     "text": [
      "\n",
      "Congratulations vanshika bhardwaj!\n",
      "You are eligible to vote in Indian elections.\n",
      "\n",
      "Next steps:\n",
      "1. Apply for Voter ID card at nearest election office\n",
      "2. Required documents: Age proof, Address proof, Identity proof\n",
      "3. You can vote in Lok Sabha, Vidhan Sabha, and local elections\n"
     ]
    }
   ],
   "source": [
    "def check_voting_eligibility():\n",
    "    print(\"Indian Voter Eligibility Checker\")\n",
    "\n",
    "    name = input(\"Enter your name: \")\n",
    "    age = int(input(\"Enter your age: \"))\n",
    "    nationality = input(\"Are you an Indian citizen? (yes/no): \").lower()\n",
    "\n",
    "    if age >= 18 and nationality == \"yes\":\n",
    "        print(f\"\\nCongratulations {name}!\")\n",
    "        print(\"You are eligible to vote in Indian elections.\")\n",
    "        print(\"\\nNext steps:\")\n",
    "        print(\"1. Apply for Voter ID card at nearest election office\")\n",
    "        print(\"2. Required documents: Age proof, Address proof, Identity proof\")\n",
    "        print(\"3. You can vote in Lok Sabha, Vidhan Sabha, and local elections\")\n",
    "    elif age < 18:\n",
    "        years_left = 18 - age\n",
    "        print(f\"\\nSorry {name}, you need to wait {years_left} more year(s)\")\n",
    "        print(\"You can pre-register when you turn 17!\")\n",
    "    else:\n",
    "        print(\"\\nOnly Indian citizens can vote in Indian elections\")\n",
    "\n",
    "# Run the checker\n",
    "check_voting_eligibility()\n"
   ]
  },
  {
   "cell_type": "code",
   "execution_count": 3,
   "id": "0ec4a2e8-619d-4b35-be8f-f88215883a58",
   "metadata": {},
   "outputs": [
    {
     "name": "stdout",
     "output_type": "stream",
     "text": [
      "ATM PIN Security Game\n",
      "Your ATM card has been temporarily locked.\n",
      "Guess your 4-digit PIN to unlock (3 attempts only)\n",
      "(Hint for testing: Your PIN is 4411)\n"
     ]
    },
    {
     "name": "stdin",
     "output_type": "stream",
     "text": [
      "\n",
      "Enter your PIN (Attempts left: 3):  1000\n"
     ]
    },
    {
     "name": "stdout",
     "output_type": "stream",
     "text": [
      "Incorrect PIN. 2 attempts remaining.\n"
     ]
    },
    {
     "name": "stdin",
     "output_type": "stream",
     "text": [
      "\n",
      "Enter your PIN (Attempts left: 2):  9999\n"
     ]
    },
    {
     "name": "stdout",
     "output_type": "stream",
     "text": [
      "Incorrect PIN. 1 attempts remaining.\n"
     ]
    },
    {
     "name": "stdin",
     "output_type": "stream",
     "text": [
      "\n",
      "Enter your PIN (Attempts left: 1):  4411\n"
     ]
    },
    {
     "name": "stdout",
     "output_type": "stream",
     "text": [
      "\n",
      "PIN correct! Your ATM card is unlocked.\n",
      "You can now proceed with your transaction.\n"
     ]
    }
   ],
   "source": [
    "def atm_pin_game():\n",
    "    import random\n",
    "\n",
    "    print(\"ATM PIN Security Game\")\n",
    "    print(\"Your ATM card has been temporarily locked.\")\n",
    "    print(\"Guess your 4-digit PIN to unlock (3 attempts only)\")\n",
    "\n",
    "    correct_pin = random.randint(1000, 9999)\n",
    "    attempts = 3\n",
    "\n",
    "    print(f\"(Hint for testing: Your PIN is {correct_pin})\")  # For testing only\n",
    "\n",
    "    while attempts > 0:\n",
    "        try:\n",
    "            user_pin = int(input(f\"\\nEnter your PIN (Attempts left: {attempts}): \"))\n",
    "\n",
    "            if len(str(user_pin)) != 4:\n",
    "                print(\"PIN must be exactly 4 digits!\")\n",
    "                continue\n",
    "\n",
    "            if user_pin == correct_pin:\n",
    "                print(\"\\nPIN correct! Your ATM card is unlocked.\")\n",
    "                print(\"You can now proceed with your transaction.\")\n",
    "                break\n",
    "            else:\n",
    "                attempts -= 1\n",
    "                if attempts > 0:\n",
    "                    print(f\"Incorrect PIN. {attempts} attempts remaining.\")\n",
    "                else:\n",
    "                    print(\"\\nToo many incorrect attempts detected.\")\n",
    "                    print(\"Card blocked! Visit your bank branch.\")\n",
    "\n",
    "        except ValueError:\n",
    "            print(\"Please enter a valid 4-digit number!\")\n",
    "\n",
    "# Run the ATM game\n",
    "atm_pin_game()\n"
   ]
  },
  {
   "cell_type": "code",
   "execution_count": 4,
   "id": "615c0a06-fd0e-4a7c-a5a1-f73a656e621a",
   "metadata": {},
   "outputs": [
    {
     "name": "stdout",
     "output_type": "stream",
     "text": [
      "STUDENT REPORT CARD\n",
      "========================================\n",
      "Student Name: vanshika bhardwaj\n",
      "Academic Year: 2024-25\n",
      "----------------------------------------\n",
      "SUBJECT-WISE PERFORMANCE:\n",
      "----------------------------------------\n",
      "Mathematics    :  85/100   Grade: A\n",
      "Science        :  92/100   Grade: A+\n",
      "English        :  78/100   Grade: B+\n",
      "Hindi          :  88/100   Grade: A\n",
      "Social Studies :  90/100   Grade: A+\n",
      "----------------------------------------\n",
      "Total Marks: 433/500\n",
      "Percentage: 86.60%\n",
      "Result: FIRST CLASS\n",
      "========================================\n"
     ]
    }
   ],
   "source": [
    "def student_report(name, subjects_marks):\n",
    "    print(\"STUDENT REPORT CARD\")\n",
    "    print(\"=\"*40)\n",
    "    print(f\"Student Name: {name}\")\n",
    "    print(f\"Academic Year: 2024-25\")\n",
    "    print(\"-\"*40)\n",
    "\n",
    "    total_marks = 0\n",
    "    max_marks = len(subjects_marks) * 100\n",
    "\n",
    "    print(\"SUBJECT-WISE PERFORMANCE:\")\n",
    "    print(\"-\"*40)\n",
    "\n",
    "    for subject, marks in subjects_marks.items():\n",
    "        total_marks += marks\n",
    "        if marks >= 90:\n",
    "            grade = \"A+\"\n",
    "        elif marks >= 80:\n",
    "            grade = \"A\"\n",
    "        elif marks >= 70:\n",
    "            grade = \"B+\"\n",
    "        elif marks >= 60:\n",
    "            grade = \"B\"\n",
    "        elif marks >= 50:\n",
    "            grade = \"C\"\n",
    "        else:\n",
    "            grade = \"F\"\n",
    "        print(f\"{subject:<15}: {marks:>3}/100   Grade: {grade}\")\n",
    "\n",
    "    percentage = (total_marks / max_marks) * 100\n",
    "\n",
    "    print(\"-\"*40)\n",
    "    print(f\"Total Marks: {total_marks}/{max_marks}\")\n",
    "    print(f\"Percentage: {percentage:.2f}%\")\n",
    "\n",
    "    if percentage >= 90:\n",
    "        result = \"DISTINCTION\"\n",
    "    elif percentage >= 75:\n",
    "        result = \"FIRST CLASS\"\n",
    "    elif percentage >= 60:\n",
    "        result = \"SECOND CLASS\"\n",
    "    elif percentage >= 50:\n",
    "        result = \"THIRD CLASS\"\n",
    "    else:\n",
    "        result = \"FAIL\"\n",
    "\n",
    "    print(f\"Result: {result}\")\n",
    "    print(\"=\"*40)\n",
    "\n",
    "# Example usage\n",
    "student_marks = {\n",
    "    \"Mathematics\": 85,\n",
    "    \"Science\": 92,\n",
    "    \"English\": 78,\n",
    "    \"Hindi\": 88,\n",
    "    \"Social Studies\": 90\n",
    "}\n",
    "\n",
    "student_report(\"vanshika bhardwaj\", student_marks)\n"
   ]
  },
  {
   "cell_type": "code",
   "execution_count": 5,
   "id": "7a01c4c0-0a66-48d1-a4aa-47f723773da6",
   "metadata": {},
   "outputs": [
    {
     "name": "stdout",
     "output_type": "stream",
     "text": [
      "Indian Railway Seat Booking System\n",
      "Train: Rajdhani Express (12001)\n",
      "Route: New Delhi to Mumbai Central\n",
      "\n",
      "RAILWAY BOOKING MENU:\n",
      "1. View seat availability\n",
      "2. Book a seat\n",
      "3. Cancel booking\n",
      "4. Exit\n"
     ]
    },
    {
     "name": "stdin",
     "output_type": "stream",
     "text": [
      "Enter your choice (1-4):  1\n"
     ]
    },
    {
     "name": "stdout",
     "output_type": "stream",
     "text": [
      "\n",
      "SEAT AVAILABILITY:\n",
      "--------------------------------------------------\n",
      "Seat S1: AVAILABLE\n",
      "Seat S2: AVAILABLE\n",
      "Seat S3: AVAILABLE\n",
      "Seat S4: AVAILABLE\n",
      "Seat S5: AVAILABLE\n",
      "Seat S6: AVAILABLE\n",
      "Seat S7: AVAILABLE\n",
      "Seat S8: AVAILABLE\n",
      "Seat S9: AVAILABLE\n",
      "Seat S10: AVAILABLE\n",
      "Seat S11: AVAILABLE\n",
      "Seat S12: AVAILABLE\n",
      "Seat S13: AVAILABLE\n",
      "Seat S14: AVAILABLE\n",
      "Seat S15: AVAILABLE\n",
      "Seat S16: AVAILABLE\n",
      "Seat S17: AVAILABLE\n",
      "Seat S18: AVAILABLE\n",
      "Seat S19: AVAILABLE\n",
      "Seat S20: AVAILABLE\n",
      "--------------------------------------------------\n",
      "\n",
      "RAILWAY BOOKING MENU:\n",
      "1. View seat availability\n",
      "2. Book a seat\n",
      "3. Cancel booking\n",
      "4. Exit\n"
     ]
    },
    {
     "name": "stdin",
     "output_type": "stream",
     "text": [
      "Enter your choice (1-4):  2\n",
      "Enter seat number (S1-S20):  s6\n",
      "Enter passenger name:  vanshika bhardwaj\n",
      "Enter passenger age:  20\n"
     ]
    },
    {
     "name": "stdout",
     "output_type": "stream",
     "text": [
      "Seat S6 booked successfully for vanshika bhardwaj\n",
      "Ticket confirmed! Happy journey!\n",
      "\n",
      "RAILWAY BOOKING MENU:\n",
      "1. View seat availability\n",
      "2. Book a seat\n",
      "3. Cancel booking\n",
      "4. Exit\n"
     ]
    },
    {
     "name": "stdin",
     "output_type": "stream",
     "text": [
      "Enter your choice (1-4):  4\n"
     ]
    },
    {
     "name": "stdout",
     "output_type": "stream",
     "text": [
      "Thank you for using Indian Railway Booking System!\n"
     ]
    }
   ],
   "source": [
    "def railway_booking_system():\n",
    "    print(\"Indian Railway Seat Booking System\")\n",
    "    print(\"Train: Rajdhani Express (12001)\")\n",
    "    print(\"Route: New Delhi to Mumbai Central\")\n",
    "\n",
    "    seats = {f\"S{i}\": None for i in range(1, 21)}\n",
    "\n",
    "    def display_seats():\n",
    "        print(\"\\nSEAT AVAILABILITY:\")\n",
    "        print(\"-\" * 50)\n",
    "        for seat_no, passenger in seats.items():\n",
    "            status = \"AVAILABLE\" if passenger is None else f\"BOOKED ({passenger})\"\n",
    "            print(f\"Seat {seat_no}: {status}\")\n",
    "        print(\"-\" * 50)\n",
    "\n",
    "    def book_seat():\n",
    "        seat_no = input(\"Enter seat number (S1-S20): \").upper()\n",
    "        if seat_no not in seats:\n",
    "            print(\"Invalid seat number!\")\n",
    "            return\n",
    "        if seats[seat_no] is not None:\n",
    "            print(f\"Seat {seat_no} is already booked by {seats[seat_no]}\")\n",
    "            return\n",
    "\n",
    "        passenger_name = input(\"Enter passenger name: \")\n",
    "        age = int(input(\"Enter passenger age: \"))\n",
    "        if age < 5:\n",
    "            print(\"Child ticket - No separate seat required\")\n",
    "            return\n",
    "\n",
    "        seats[seat_no] = passenger_name\n",
    "        print(f\"Seat {seat_no} booked successfully for {passenger_name}\")\n",
    "        print(\"Ticket confirmed! Happy journey!\")\n",
    "\n",
    "    def cancel_booking():\n",
    "        seat_no = input(\"Enter seat number to cancel (S1-S20): \").upper()\n",
    "        if seat_no not in seats:\n",
    "            print(\"Invalid seat number!\")\n",
    "            return\n",
    "        if seats[seat_no] is None:\n",
    "            print(f\"Seat {seat_no} is not booked!\")\n",
    "            return\n",
    "\n",
    "        passenger_name = seats[seat_no]\n",
    "        seats[seat_no] = None\n",
    "        print(f\"Booking cancelled for {passenger_name}\")\n",
    "        print(\"Refund will be processed in 5-7 working days\")\n",
    "\n",
    "    while True:\n",
    "        print(\"\\nRAILWAY BOOKING MENU:\")\n",
    "        print(\"1. View seat availability\")\n",
    "        print(\"2. Book a seat\")\n",
    "        print(\"3. Cancel booking\")\n",
    "        print(\"4. Exit\")\n",
    "\n",
    "        choice = input(\"Enter your choice (1-4): \")\n",
    "        if choice == \"1\":\n",
    "            display_seats()\n",
    "        elif choice == \"2\":\n",
    "            book_seat()\n",
    "        elif choice == \"3\":\n",
    "            cancel_booking()\n",
    "        elif choice == \"4\":\n",
    "            print(\"Thank you for using Indian Railway Booking System!\")\n",
    "            break\n",
    "        else:\n",
    "            print(\"Invalid choice! Please try again.\")\n",
    "\n",
    "# Run the booking system\n",
    "railway_booking_system()\n"
   ]
  },
  {
   "cell_type": "code",
   "execution_count": null,
   "id": "1c59ce71-d2a8-4f7e-9a62-04b09d61733d",
   "metadata": {},
   "outputs": [],
   "source": []
  }
 ],
 "metadata": {
  "kernelspec": {
   "display_name": "Python 3 (ipykernel)",
   "language": "python",
   "name": "python3"
  },
  "language_info": {
   "codemirror_mode": {
    "name": "ipython",
    "version": 3
   },
   "file_extension": ".py",
   "mimetype": "text/x-python",
   "name": "python",
   "nbconvert_exporter": "python",
   "pygments_lexer": "ipython3",
   "version": "3.12.7"
  }
 },
 "nbformat": 4,
 "nbformat_minor": 5
}
