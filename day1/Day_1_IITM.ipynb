{
 "cells": [
  {
   "cell_type": "code",
   "execution_count": 1,
   "metadata": {
    "id": "Mm0ROvuCVPYS"
   },
   "outputs": [
    {
     "name": "stdout",
     "output_type": "stream",
     "text": [
      "5678 <class 'int'>\n"
     ]
    }
   ],
   "source": [
    "# Int\n",
    "a = 5678\n",
    "print(a,type(a))"
   ]
  },
  {
   "cell_type": "code",
   "execution_count": 2,
   "metadata": {
    "id": "Q4yz4wUOVls3"
   },
   "outputs": [
    {
     "name": "stdout",
     "output_type": "stream",
     "text": [
      "4567.8765 <class 'float'>\n"
     ]
    }
   ],
   "source": [
    "# Float\n",
    "a = 4567.8765\n",
    "print(a,type(a))"
   ]
  },
  {
   "cell_type": "code",
   "execution_count": 3,
   "metadata": {
    "id": "SaBwYHiwW5Sc"
   },
   "outputs": [
    {
     "name": "stdout",
     "output_type": "stream",
     "text": [
      "(456+8j) <class 'complex'>\n"
     ]
    }
   ],
   "source": [
    "# Complex\n",
    "a = 456 + 8j\n",
    "print(a,type(a))"
   ]
  },
  {
   "cell_type": "code",
   "execution_count": 4,
   "metadata": {
    "id": "4TKwkiV3XuNc"
   },
   "outputs": [],
   "source": [
    "# Int,float, Complex = Numerical"
   ]
  },
  {
   "cell_type": "code",
   "execution_count": 5,
   "metadata": {
    "id": "qV8__ATZX4H-"
   },
   "outputs": [
    {
     "name": "stdout",
     "output_type": "stream",
     "text": [
      "Hello Python <class 'str'>\n"
     ]
    }
   ],
   "source": [
    "# Str, double, triple\n",
    "a = 'Hello Python'\n",
    "print(a,type(a))"
   ]
  },
  {
   "cell_type": "code",
   "execution_count": 6,
   "metadata": {
    "id": "hYqYe1YfX-pL"
   },
   "outputs": [
    {
     "name": "stdout",
     "output_type": "stream",
     "text": [
      "Twinkle twinkle little star\n",
      "How I wonder what you are\n",
      "Up above the world so high\n",
      "Like a diamond in the sky\n",
      "Twinkle twinkle little star\n",
      "How I wonder what you are\n",
      "\n",
      "\n",
      "\n",
      "Twinkle twinkle little star\n",
      "How I wonder what you are\n",
      "Up above the world so high\n",
      "Like a diamond in the sky\n",
      "Twinkle twinkle little star\n",
      "How I wonder what you are\n"
     ]
    }
   ],
   "source": [
    "poem = '''Twinkle twinkle little star\n",
    "How I wonder what you are\n",
    "Up above the world so high\n",
    "Like a diamond in the sky\n",
    "Twinkle twinkle little star\n",
    "How I wonder what you are\n",
    "\n",
    "\n",
    "\n",
    "Twinkle twinkle little star\n",
    "How I wonder what you are\n",
    "Up above the world so high\n",
    "Like a diamond in the sky\n",
    "Twinkle twinkle little star\n",
    "How I wonder what you are'''\n",
    "\n",
    "\n",
    "print(poem)"
   ]
  },
  {
   "cell_type": "code",
   "execution_count": 7,
   "metadata": {
    "id": "KGxEOCQqYYHU"
   },
   "outputs": [
    {
     "name": "stdout",
     "output_type": "stream",
     "text": [
      "(2, 3434, 5, 5467) <class 'tuple'>\n"
     ]
    }
   ],
   "source": [
    "# tuple\n",
    "a = (2,3434,5,5467)\n",
    "print(a,type(a))"
   ]
  },
  {
   "cell_type": "code",
   "execution_count": 8,
   "metadata": {
    "id": "S3Y0rUUHYoEz"
   },
   "outputs": [
    {
     "name": "stdout",
     "output_type": "stream",
     "text": [
      "(2,) <class 'tuple'>\n"
     ]
    }
   ],
   "source": [
    "# tuple\n",
    "a = (2,)\n",
    "print(a,type(a))"
   ]
  },
  {
   "cell_type": "code",
   "execution_count": 9,
   "metadata": {
    "id": "T1vzaPVIY9rA"
   },
   "outputs": [
    {
     "name": "stdout",
     "output_type": "stream",
     "text": [
      "[2, 3434, 5, 5467] <class 'list'>\n"
     ]
    }
   ],
   "source": [
    "# tuple\n",
    "a = [2,3434,5,5467]\n",
    "print(a,type(a))"
   ]
  },
  {
   "cell_type": "code",
   "execution_count": 10,
   "metadata": {
    "id": "5GssTUdmZHsf"
   },
   "outputs": [],
   "source": [
    "a[2] = 4000"
   ]
  },
  {
   "cell_type": "code",
   "execution_count": 11,
   "metadata": {
    "id": "7cWklCNXZVR_"
   },
   "outputs": [
    {
     "name": "stdout",
     "output_type": "stream",
     "text": [
      "[2, 3434, 4000, 5467]\n"
     ]
    }
   ],
   "source": [
    "print(a)"
   ]
  },
  {
   "cell_type": "code",
   "execution_count": 12,
   "metadata": {
    "id": "xH01WcCMZgsY"
   },
   "outputs": [
    {
     "name": "stdout",
     "output_type": "stream",
     "text": [
      "346\n"
     ]
    }
   ],
   "source": [
    "a = (3,544,5,346,567)\n",
    "\n",
    "print(a[3])"
   ]
  },
  {
   "cell_type": "code",
   "execution_count": 13,
   "metadata": {
    "id": "ob3b3MpRZtSx"
   },
   "outputs": [
    {
     "ename": "TypeError",
     "evalue": "'tuple' object does not support item assignment",
     "output_type": "error",
     "traceback": [
      "\u001b[1;31m---------------------------------------------------------------------------\u001b[0m",
      "\u001b[1;31mTypeError\u001b[0m                                 Traceback (most recent call last)",
      "Cell \u001b[1;32mIn[13], line 1\u001b[0m\n\u001b[1;32m----> 1\u001b[0m a[\u001b[38;5;241m3\u001b[39m] \u001b[38;5;241m=\u001b[39m \u001b[38;5;241m900\u001b[39m\n",
      "\u001b[1;31mTypeError\u001b[0m: 'tuple' object does not support item assignment"
     ]
    }
   ],
   "source": [
    "a[3] = 900"
   ]
  },
  {
   "cell_type": "code",
   "execution_count": 14,
   "metadata": {
    "id": "KTUYQaG8Zv04"
   },
   "outputs": [
    {
     "name": "stdout",
     "output_type": "stream",
     "text": [
      "(3, 544, 5, 900, 567)\n"
     ]
    }
   ],
   "source": [
    "a = list(a)\n",
    "a[3] = 900\n",
    "a = tuple(a)\n",
    "print(a)"
   ]
  },
  {
   "cell_type": "code",
   "execution_count": 15,
   "metadata": {
    "id": "ji_yQhY3Z6vw"
   },
   "outputs": [
    {
     "name": "stdout",
     "output_type": "stream",
     "text": [
      "[1, 1, 2, 2, 2, 2, 23, 3, 3, 3, 4, 4, 45]\n"
     ]
    }
   ],
   "source": [
    "std_id = [1,1,2,2,2,2,23,3,3,3,4,4,45]\n",
    "\n",
    "print(std_id)"
   ]
  },
  {
   "cell_type": "code",
   "execution_count": 16,
   "metadata": {
    "id": "XeefrjeZaK2Q"
   },
   "outputs": [
    {
     "name": "stdout",
     "output_type": "stream",
     "text": [
      "[1, 2, 3, 4, 45, 23]\n"
     ]
    }
   ],
   "source": [
    "std_id = list(set(std_id))\n",
    "print(std_id)"
   ]
  },
  {
   "cell_type": "code",
   "execution_count": 17,
   "metadata": {
    "id": "kLFTE3eLad7T"
   },
   "outputs": [
    {
     "name": "stdout",
     "output_type": "stream",
     "text": [
      "{'Name': 'Aman', 'Age': 23, 'Address': 'Delhi'} <class 'dict'>\n"
     ]
    }
   ],
   "source": [
    "# dict:- key value pair datatype, # hash\n",
    "\n",
    "a = {'Name':'Aman','Age':23,'Address':'Delhi'}\n",
    "print(a,type(a))"
   ]
  },
  {
   "cell_type": "code",
   "execution_count": 18,
   "metadata": {
    "id": "wphXK87aa7JS"
   },
   "outputs": [],
   "source": [
    "a['Address'] = 'Noida/Gr Noida'"
   ]
  },
  {
   "cell_type": "code",
   "execution_count": 19,
   "metadata": {
    "id": "UTSlf_0MbfCR"
   },
   "outputs": [
    {
     "name": "stdout",
     "output_type": "stream",
     "text": [
      "{'Name': 'Aman', 'Age': 23, 'Address': 'Noida/Gr Noida'}\n"
     ]
    }
   ],
   "source": [
    "print(a)"
   ]
  },
  {
   "cell_type": "code",
   "execution_count": 20,
   "metadata": {
    "id": "bS9GI0nRbfw7"
   },
   "outputs": [],
   "source": [
    "a['Name'] = 'Aman Kumar'"
   ]
  },
  {
   "cell_type": "code",
   "execution_count": 21,
   "metadata": {
    "id": "siag4OMMb4jX"
   },
   "outputs": [
    {
     "name": "stdout",
     "output_type": "stream",
     "text": [
      "{'Name': 'Aman Kumar', 'Age': 23, 'Address': 'Noida/Gr Noida'}\n"
     ]
    }
   ],
   "source": [
    "print(a)"
   ]
  },
  {
   "cell_type": "code",
   "execution_count": 22,
   "metadata": {
    "id": "MGtuNfyNb5F9"
   },
   "outputs": [
    {
     "name": "stdout",
     "output_type": "stream",
     "text": [
      "{'Region': ['West', 'East', 'North', 'South'], 'Sales': [345, 546, 453, 456], 'Profit': [120, 200, 90, 78]}\n"
     ]
    }
   ],
   "source": [
    "data = {'Region':['West','East','North','South'],\n",
    "        'Sales':[345,546,453,456],\n",
    "        'Profit':[120,200,90,78]}\n",
    "\n",
    "print(data)"
   ]
  },
  {
   "cell_type": "code",
   "execution_count": 23,
   "metadata": {
    "id": "wv7CDYp8c5Ka"
   },
   "outputs": [
    {
     "data": {
      "text/html": [
       "<div>\n",
       "<style scoped>\n",
       "    .dataframe tbody tr th:only-of-type {\n",
       "        vertical-align: middle;\n",
       "    }\n",
       "\n",
       "    .dataframe tbody tr th {\n",
       "        vertical-align: top;\n",
       "    }\n",
       "\n",
       "    .dataframe thead th {\n",
       "        text-align: right;\n",
       "    }\n",
       "</style>\n",
       "<table border=\"1\" class=\"dataframe\">\n",
       "  <thead>\n",
       "    <tr style=\"text-align: right;\">\n",
       "      <th></th>\n",
       "      <th>Region</th>\n",
       "      <th>Sales</th>\n",
       "      <th>Profit</th>\n",
       "    </tr>\n",
       "  </thead>\n",
       "  <tbody>\n",
       "    <tr>\n",
       "      <th>0</th>\n",
       "      <td>West</td>\n",
       "      <td>345</td>\n",
       "      <td>120</td>\n",
       "    </tr>\n",
       "    <tr>\n",
       "      <th>1</th>\n",
       "      <td>East</td>\n",
       "      <td>546</td>\n",
       "      <td>200</td>\n",
       "    </tr>\n",
       "    <tr>\n",
       "      <th>2</th>\n",
       "      <td>North</td>\n",
       "      <td>453</td>\n",
       "      <td>90</td>\n",
       "    </tr>\n",
       "    <tr>\n",
       "      <th>3</th>\n",
       "      <td>South</td>\n",
       "      <td>456</td>\n",
       "      <td>78</td>\n",
       "    </tr>\n",
       "  </tbody>\n",
       "</table>\n",
       "</div>"
      ],
      "text/plain": [
       "  Region  Sales  Profit\n",
       "0   West    345     120\n",
       "1   East    546     200\n",
       "2  North    453      90\n",
       "3  South    456      78"
      ]
     },
     "execution_count": 23,
     "metadata": {},
     "output_type": "execute_result"
    }
   ],
   "source": [
    "import pandas as pd\n",
    "\n",
    "table = pd.DataFrame(data)\n",
    "table"
   ]
  },
  {
   "cell_type": "code",
   "execution_count": 24,
   "metadata": {
    "id": "CW3yvZT7dAPX"
   },
   "outputs": [
    {
     "data": {
      "text/html": [
       "<div>\n",
       "<style scoped>\n",
       "    .dataframe tbody tr th:only-of-type {\n",
       "        vertical-align: middle;\n",
       "    }\n",
       "\n",
       "    .dataframe tbody tr th {\n",
       "        vertical-align: top;\n",
       "    }\n",
       "\n",
       "    .dataframe thead th {\n",
       "        text-align: right;\n",
       "    }\n",
       "</style>\n",
       "<table border=\"1\" class=\"dataframe\">\n",
       "  <thead>\n",
       "    <tr style=\"text-align: right;\">\n",
       "      <th></th>\n",
       "      <th>Region</th>\n",
       "      <th>Sales</th>\n",
       "      <th>Profit</th>\n",
       "    </tr>\n",
       "  </thead>\n",
       "  <tbody>\n",
       "    <tr>\n",
       "      <th>0</th>\n",
       "      <td>West</td>\n",
       "      <td>345</td>\n",
       "      <td>120</td>\n",
       "    </tr>\n",
       "    <tr>\n",
       "      <th>1</th>\n",
       "      <td>East</td>\n",
       "      <td>546</td>\n",
       "      <td>200</td>\n",
       "    </tr>\n",
       "    <tr>\n",
       "      <th>2</th>\n",
       "      <td>North</td>\n",
       "      <td>453</td>\n",
       "      <td>90</td>\n",
       "    </tr>\n",
       "    <tr>\n",
       "      <th>3</th>\n",
       "      <td>South</td>\n",
       "      <td>456</td>\n",
       "      <td>78</td>\n",
       "    </tr>\n",
       "  </tbody>\n",
       "</table>\n",
       "</div>"
      ],
      "text/plain": [
       "  Region  Sales  Profit\n",
       "0   West    345     120\n",
       "1   East    546     200\n",
       "2  North    453      90\n",
       "3  South    456      78"
      ]
     },
     "execution_count": 24,
     "metadata": {},
     "output_type": "execute_result"
    }
   ],
   "source": [
    "table"
   ]
  },
  {
   "cell_type": "code",
   "execution_count": 25,
   "metadata": {
    "id": "4iAQVHPOdP7k"
   },
   "outputs": [
    {
     "name": "stdout",
     "output_type": "stream",
     "text": [
      "True <class 'bool'>\n"
     ]
    }
   ],
   "source": [
    "a = True\n",
    "print(a,type(a))"
   ]
  },
  {
   "cell_type": "code",
   "execution_count": 26,
   "metadata": {
    "id": "SQjPEJhceGfT"
   },
   "outputs": [],
   "source": [
    "# #int,float, complex\n",
    "# str, tuple, list\n",
    "# set, dict,\n",
    "# # bool"
   ]
  },
  {
   "cell_type": "code",
   "execution_count": 27,
   "metadata": {
    "id": "VO5UVi46eTXn"
   },
   "outputs": [],
   "source": [
    "# salary = 56789\n",
    "\n",
    "# >= 50: manager\n",
    "# >= 30: Jr manager\n",
    "# >= 20: Executive\n",
    "# Intern"
   ]
  },
  {
   "cell_type": "code",
   "execution_count": 28,
   "metadata": {
    "id": "jGAmlhHheoOm"
   },
   "outputs": [
    {
     "name": "stdout",
     "output_type": "stream",
     "text": [
      "Executive\n"
     ]
    }
   ],
   "source": [
    "salary = 27800\n",
    "if salary >= 50000:\n",
    "  print('Manager')\n",
    "elif salary >= 30000:\n",
    "  print('Jr Manager')\n",
    "elif salary >= 20000:\n",
    "  print('Executive')\n",
    "else:\n",
    "  print('Intern')"
   ]
  },
  {
   "cell_type": "code",
   "execution_count": 29,
   "metadata": {
    "id": "ySGnXOF2fchk"
   },
   "outputs": [
    {
     "ename": "TypeError",
     "evalue": "Random.randint() takes 3 positional arguments but 4 were given",
     "output_type": "error",
     "traceback": [
      "\u001b[1;31m---------------------------------------------------------------------------\u001b[0m",
      "\u001b[1;31mTypeError\u001b[0m                                 Traceback (most recent call last)",
      "Cell \u001b[1;32mIn[29], line 2\u001b[0m\n\u001b[0;32m      1\u001b[0m \u001b[38;5;28;01mimport\u001b[39;00m \u001b[38;5;21;01mrandom\u001b[39;00m\n\u001b[1;32m----> 2\u001b[0m random\u001b[38;5;241m.\u001b[39mrandint(\u001b[38;5;241m10000\u001b[39m,\u001b[38;5;241m60000\u001b[39m,\u001b[38;5;241m5\u001b[39m)\n",
      "\u001b[1;31mTypeError\u001b[0m: Random.randint() takes 3 positional arguments but 4 were given"
     ]
    }
   ],
   "source": [
    "import random\n",
    "random.randint(10000,60000,5)"
   ]
  },
  {
   "cell_type": "code",
   "execution_count": 30,
   "metadata": {
    "id": "DXep0-DcgFfW"
   },
   "outputs": [],
   "source": [
    "import numpy as np\n",
    "database_salary = np.random.randint(10000,60000,5)"
   ]
  },
  {
   "cell_type": "code",
   "execution_count": 31,
   "metadata": {
    "id": "pkrOn5eegR2F"
   },
   "outputs": [
    {
     "name": "stdout",
     "output_type": "stream",
     "text": [
      "27800\n"
     ]
    }
   ],
   "source": [
    "print(salary)"
   ]
  },
  {
   "cell_type": "code",
   "execution_count": 32,
   "metadata": {
    "id": "aEsHMNkmhMiO"
   },
   "outputs": [
    {
     "name": "stdout",
     "output_type": "stream",
     "text": [
      "34370 Jr Manager\n",
      "11984 Intern\n",
      "56298 Manager\n",
      "32685 Jr Manager\n",
      "14163 Intern\n"
     ]
    }
   ],
   "source": [
    "for i in database_salary:\n",
    "  salary = i\n",
    "  if salary >= 50000:\n",
    "    print(i, 'Manager')\n",
    "  elif salary >= 30000:\n",
    "    print(i, 'Jr Manager')\n",
    "  elif salary >= 20000:\n",
    "    print(i, 'Executive')\n",
    "  else:\n",
    "    print(i, 'Intern')"
   ]
  },
  {
   "cell_type": "code",
   "execution_count": 33,
   "metadata": {
    "id": "tHNAOqFahbLT"
   },
   "outputs": [
    {
     "name": "stdout",
     "output_type": "stream",
     "text": [
      "Tue Jul 22 14:16:22 2025\n"
     ]
    }
   ],
   "source": [
    "import time\n",
    "for i in range(20):\n",
    "  print(time.asctime())\n",
    "  time.sleep(1)\n",
    "  display(clear= True)"
   ]
  },
  {
   "cell_type": "code",
   "execution_count": 34,
   "metadata": {
    "id": "mLH63zWbs7eO"
   },
   "outputs": [
    {
     "name": "stdin",
     "output_type": "stream",
     "text": [
      "Enter your Choice(1-10):  1\n"
     ]
    },
    {
     "name": "stdout",
     "output_type": "stream",
     "text": [
      "\n",
      "User choice: 1\n",
      "Computer Choice: 1\n",
      "User Won, Comp Lose!!\n"
     ]
    }
   ],
   "source": [
    "import random\n",
    "comp_choice = random.randint(1,10)\n",
    "user_choice = int(input('Enter your Choice(1-10): '))\n",
    "\n",
    "print(f'''\n",
    "User choice: {user_choice}\n",
    "Computer Choice: {comp_choice}''')\n",
    "\n",
    "if user_choice == comp_choice:\n",
    "  print('User Won, Comp Lose!!')\n",
    "else:\n",
    "  print('Better Luck next time!!')\n",
    "\n"
   ]
  },
  {
   "cell_type": "code",
   "execution_count": 35,
   "metadata": {
    "id": "tHcRxJhxulxX"
   },
   "outputs": [
    {
     "name": "stdin",
     "output_type": "stream",
     "text": [
      "Enter your Choice(1-10):  2\n"
     ]
    },
    {
     "name": "stdout",
     "output_type": "stream",
     "text": [
      "\n",
      "  User choice: 2\n",
      "  Computer Choice: 6\n",
      "Better Luck next time!!\n"
     ]
    },
    {
     "name": "stdin",
     "output_type": "stream",
     "text": [
      "Enter your Choice(1-10):  4\n"
     ]
    },
    {
     "name": "stdout",
     "output_type": "stream",
     "text": [
      "\n",
      "  User choice: 4\n",
      "  Computer Choice: 4\n",
      "User Won, Comp Lose!!\n"
     ]
    },
    {
     "name": "stdin",
     "output_type": "stream",
     "text": [
      "Enter your Choice(1-10):  4\n"
     ]
    },
    {
     "name": "stdout",
     "output_type": "stream",
     "text": [
      "\n",
      "  User choice: 4\n",
      "  Computer Choice: 7\n",
      "Better Luck next time!!\n"
     ]
    }
   ],
   "source": [
    "user_attempts = 3\n",
    "import random\n",
    "for i in range(user_attempts):\n",
    "  comp_choice = random.randint(1,10)\n",
    "  user_choice = int(input('Enter your Choice(1-10): '))\n",
    "\n",
    "  print(f'''\n",
    "  User choice: {user_choice}\n",
    "  Computer Choice: {comp_choice}''')\n",
    "\n",
    "  if user_choice == comp_choice:\n",
    "    print('User Won, Comp Lose!!')\n",
    "  else:\n",
    "    print('Better Luck next time!!')"
   ]
  },
  {
   "cell_type": "code",
   "execution_count": 37,
   "metadata": {
    "id": "tgCfjsOWw55W"
   },
   "outputs": [
    {
     "name": "stdout",
     "output_type": "stream",
     "text": [
      "Question 1:  What is the capital of Australia?\n",
      "A) Sydney\n",
      "B) Melbourne\n",
      "C) Canberra\n",
      "D) Perth\n"
     ]
    },
    {
     "name": "stdin",
     "output_type": "stream",
     "text": [
      "Enter your choice:  C\n"
     ]
    },
    {
     "name": "stdout",
     "output_type": "stream",
     "text": [
      "Correct Answer!!\n",
      "\n",
      "\n",
      "\n",
      "Question 2:  Who invented the telephone?\n",
      "A) Albert Einstein\n",
      "B) Isaac Newton\n",
      "C) Alexander Graham Bell\n",
      "D) Thomas Edison\n"
     ]
    },
    {
     "name": "stdin",
     "output_type": "stream",
     "text": [
      "Enter your choice:  C\n"
     ]
    },
    {
     "name": "stdout",
     "output_type": "stream",
     "text": [
      "Correct Answer!!\n",
      "\n",
      "\n",
      "\n",
      "Question 3:  Which planet is known as the Red Planet?\n",
      "A) Earth\n",
      "B) Venus\n",
      "C) Jupiter\n",
      "D) Mars\n"
     ]
    },
    {
     "name": "stdin",
     "output_type": "stream",
     "text": [
      "Enter your choice:  D\n"
     ]
    },
    {
     "name": "stdout",
     "output_type": "stream",
     "text": [
      "Correct Answer!!\n",
      "\n",
      "\n",
      "\n",
      "Question 4:  In which year did India gain independence?\n",
      "A) 1945\n",
      "B) 1946\n",
      "C) 1947\n",
      "D) 1950\n"
     ]
    },
    {
     "name": "stdin",
     "output_type": "stream",
     "text": [
      "Enter your choice:  C\n"
     ]
    },
    {
     "name": "stdout",
     "output_type": "stream",
     "text": [
      "Correct Answer!!\n",
      "\n",
      "\n",
      "\n",
      "Question 5:  What is the largest organ in the human body?\n",
      "A) Liver\n",
      "B) Brain\n",
      "C) Skin\n",
      "D) Heart\n"
     ]
    },
    {
     "name": "stdin",
     "output_type": "stream",
     "text": [
      "Enter your choice:  C\n"
     ]
    },
    {
     "name": "stdout",
     "output_type": "stream",
     "text": [
      "Correct Answer!!\n",
      "\n",
      "\n",
      "\n",
      "Total Amount 50000\n"
     ]
    }
   ],
   "source": [
    "Questions = {1:'What is the capital of Australia?',\n",
    "             2:'Who invented the telephone?',\n",
    "             3:'Which planet is known as the Red Planet?',\n",
    "             4:'In which year did India gain independence?',\n",
    "             5:'What is the largest organ in the human body?'}\n",
    "\n",
    "options = {1:'''A) Sydney\n",
    "B) Melbourne\n",
    "C) Canberra\n",
    "D) Perth''',\n",
    "           2:'''A) Albert Einstein\n",
    "B) Isaac Newton\n",
    "C) Alexander Graham Bell\n",
    "D) Thomas Edison''',\n",
    "           3:'''A) Earth\n",
    "B) Venus\n",
    "C) Jupiter\n",
    "D) Mars''',\n",
    "           4:'''A) 1945\n",
    "B) 1946\n",
    "C) 1947\n",
    "D) 1950''',\n",
    "           5:'''A) Liver\n",
    "B) Brain\n",
    "C) Skin\n",
    "D) Heart'''}\n",
    "\n",
    "win_ammount = 0\n",
    "\n",
    "correct_op = ['C','C','D','C','C']\n",
    "\n",
    "for i in range(1,len(Questions)+1):\n",
    "  print(f'Question {i}: ',Questions[i])\n",
    "  print(options[i])\n",
    "  user_choice = input('Enter your choice: ').upper()\n",
    "\n",
    "  correct_ans = correct_op[i-1]\n",
    "  # print(correct_ans)\n",
    "  if user_choice == correct_ans:\n",
    "    win_ammount += 10000\n",
    "    print('Correct Answer!!')\n",
    "    print(end = '\\n'*3)\n",
    "\n",
    "  else:\n",
    "    print('Better luck next time!!')\n",
    "    break\n",
    "\n",
    "\n",
    "print('Total Amount',win_ammount)"
   ]
  },
  {
   "cell_type": "code",
   "execution_count": 38,
   "metadata": {
    "id": "bqpI4TExzH6v"
   },
   "outputs": [],
   "source": [
    "def say_hello(name):\n",
    "  print(f'Hello {name},','how are you??')"
   ]
  },
  {
   "cell_type": "code",
   "execution_count": 39,
   "metadata": {
    "id": "LwCbXNho5XcK"
   },
   "outputs": [
    {
     "name": "stdout",
     "output_type": "stream",
     "text": [
      "Hello Mohan, how are you??\n"
     ]
    }
   ],
   "source": [
    "say_hello('Mohan')"
   ]
  },
  {
   "cell_type": "code",
   "execution_count": 40,
   "metadata": {
    "id": "VPABUv1B5hef"
   },
   "outputs": [],
   "source": [
    "def vote(age):\n",
    "  print('can Vote!!') if age >= 18 else print('can not Vote!!')"
   ]
  },
  {
   "cell_type": "code",
   "execution_count": 41,
   "metadata": {
    "id": "4MLg0EUC8CMe"
   },
   "outputs": [
    {
     "name": "stdout",
     "output_type": "stream",
     "text": [
      "can not Vote!!\n"
     ]
    }
   ],
   "source": [
    "vote(3)"
   ]
  },
  {
   "cell_type": "code",
   "execution_count": 42,
   "metadata": {
    "id": "7ZOnliaS8C9l"
   },
   "outputs": [
    {
     "name": "stdout",
     "output_type": "stream",
     "text": [
      "Defaulting to user installation because normal site-packages is not writeable\n",
      "Requirement already satisfied: gTTS in c:\\programdata\\anaconda3\\lib\\site-packages (2.5.4)\n",
      "Requirement already satisfied: requests<3,>=2.27 in c:\\programdata\\anaconda3\\lib\\site-packages (from gTTS) (2.32.3)\n",
      "Requirement already satisfied: click<8.2,>=7.1 in c:\\programdata\\anaconda3\\lib\\site-packages (from gTTS) (8.1.7)\n",
      "Requirement already satisfied: colorama in c:\\programdata\\anaconda3\\lib\\site-packages (from click<8.2,>=7.1->gTTS) (0.4.6)\n",
      "Requirement already satisfied: charset-normalizer<4,>=2 in c:\\programdata\\anaconda3\\lib\\site-packages (from requests<3,>=2.27->gTTS) (3.3.2)\n",
      "Requirement already satisfied: idna<4,>=2.5 in c:\\programdata\\anaconda3\\lib\\site-packages (from requests<3,>=2.27->gTTS) (3.7)\n",
      "Requirement already satisfied: urllib3<3,>=1.21.1 in c:\\users\\mohiv\\appdata\\roaming\\python\\python312\\site-packages (from requests<3,>=2.27->gTTS) (2.5.0)\n",
      "Requirement already satisfied: certifi>=2017.4.17 in c:\\programdata\\anaconda3\\lib\\site-packages (from requests<3,>=2.27->gTTS) (2025.6.15)\n"
     ]
    }
   ],
   "source": [
    "!pip install gTTS\n"
   ]
  },
  {
   "cell_type": "code",
   "execution_count": 43,
   "metadata": {
    "id": "V1bVpxPg8vzI"
   },
   "outputs": [
    {
     "name": "stdout",
     "output_type": "stream",
     "text": [
      "pygame 2.6.1 (SDL 2.28.4, Python 3.12.7)\n",
      "Hello from the pygame community. https://www.pygame.org/contribute.html\n"
     ]
    },
    {
     "ename": "FileNotFoundError",
     "evalue": "No file 'paytm.mp3' found in working directory 'C:\\Users\\mohiv\\Downloads'.",
     "output_type": "error",
     "traceback": [
      "\u001b[1;31m---------------------------------------------------------------------------\u001b[0m",
      "\u001b[1;31mFileNotFoundError\u001b[0m                         Traceback (most recent call last)",
      "Cell \u001b[1;32mIn[43], line 10\u001b[0m\n\u001b[0;32m      7\u001b[0m \u001b[38;5;28;01mimport\u001b[39;00m \u001b[38;5;21;01mpygame\u001b[39;00m \u001b[38;5;28;01mas\u001b[39;00m \u001b[38;5;21;01mp\u001b[39;00m\n\u001b[0;32m      8\u001b[0m p\u001b[38;5;241m.\u001b[39minit()\n\u001b[1;32m---> 10\u001b[0m music \u001b[38;5;241m=\u001b[39m p\u001b[38;5;241m.\u001b[39mmixer\u001b[38;5;241m.\u001b[39mSound(\u001b[38;5;124m'\u001b[39m\u001b[38;5;124mpaytm.mp3\u001b[39m\u001b[38;5;124m'\u001b[39m)\n\u001b[0;32m     11\u001b[0m music\u001b[38;5;241m.\u001b[39mplay()\n",
      "\u001b[1;31mFileNotFoundError\u001b[0m: No file 'paytm.mp3' found in working directory 'C:\\Users\\mohiv\\Downloads'."
     ]
    }
   ],
   "source": [
    "def sound_box(paisa,platform = 'Paytm'):\n",
    " from gtts import gTTS\n",
    " text  = f'''{platform} par {paisa} rs Prapt hue.'''\n",
    " audio = gTTS(text)\n",
    " audio.save('paytm.mp3')\n",
    "\n",
    "import pygame as p\n",
    "p.init()\n",
    "\n",
    "music = p.mixer.Sound('paytm.mp3')\n",
    "music.play()"
   ]
  },
  {
   "cell_type": "code",
   "execution_count": 44,
   "metadata": {},
   "outputs": [
    {
     "name": "stdout",
     "output_type": "stream",
     "text": [
      "Defaulting to user installation because normal site-packages is not writeable\n",
      "Requirement already satisfied: pygame in c:\\programdata\\anaconda3\\lib\\site-packages (2.6.1)\n"
     ]
    }
   ],
   "source": [
    "!pip install pygame"
   ]
  },
  {
   "cell_type": "code",
   "execution_count": null,
   "metadata": {},
   "outputs": [],
   "source": []
  }
 ],
 "metadata": {
  "colab": {
   "private_outputs": true,
   "provenance": []
  },
  "kernelspec": {
   "display_name": "Python 3 (ipykernel)",
   "language": "python",
   "name": "python3"
  },
  "language_info": {
   "codemirror_mode": {
    "name": "ipython",
    "version": 3
   },
   "file_extension": ".py",
   "mimetype": "text/x-python",
   "name": "python",
   "nbconvert_exporter": "python",
   "pygments_lexer": "ipython3",
   "version": "3.12.7"
  }
 },
 "nbformat": 4,
 "nbformat_minor": 4
}
