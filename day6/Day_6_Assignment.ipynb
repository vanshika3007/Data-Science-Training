{
 "cells": [
  {
   "cell_type": "code",
   "execution_count": 1,
   "id": "d7b8f07b-6ea2-46b3-8e4b-c80b784f7f9a",
   "metadata": {},
   "outputs": [],
   "source": [
    "class Fan:\n",
    "    def __init__(self):\n",
    "        self.__speed = 0  # private variable\n",
    "        self.is_on = False\n",
    "\n",
    "    def turn_on(self):\n",
    "        self.is_on = True\n",
    "        print(\"Fan turned on.\")\n",
    "\n",
    "    def turn_off(self):\n",
    "        self.is_on = False\n",
    "        self.__speed = 0\n",
    "        print(\"Fan turned off.\")\n",
    "\n",
    "    def increase_speed(self):\n",
    "        if self.__speed < 5:\n",
    "            self.__speed += 1\n",
    "        print(f\"Speed: {self.__speed}\")\n",
    "\n",
    "    def decrease_speed(self):\n",
    "        if self.__speed > 0:\n",
    "            self.__speed -= 1\n",
    "        print(f\"Speed: {self.__speed}\")\n",
    "\n",
    "fan = Fan()"
   ]
  },
  {
   "cell_type": "code",
   "execution_count": 2,
   "id": "d71617cc-a2a5-4bd5-b997-565023b1d3e5",
   "metadata": {},
   "outputs": [
    {
     "name": "stdout",
     "output_type": "stream",
     "text": [
      "Fan turned on.\n"
     ]
    }
   ],
   "source": [
    "fan.turn_on()"
   ]
  },
  {
   "cell_type": "code",
   "execution_count": 3,
   "id": "f38d21f1-492f-4c65-91a8-739230195b81",
   "metadata": {},
   "outputs": [
    {
     "name": "stdout",
     "output_type": "stream",
     "text": [
      "Speed: 1\n"
     ]
    }
   ],
   "source": [
    "fan.increase_speed()"
   ]
  },
  {
   "cell_type": "code",
   "execution_count": 4,
   "id": "8fb145db-d5f8-4f78-8fe7-a93284705264",
   "metadata": {},
   "outputs": [
    {
     "name": "stdout",
     "output_type": "stream",
     "text": [
      "Speed: 2\n"
     ]
    }
   ],
   "source": [
    "fan.increase_speed()"
   ]
  },
  {
   "cell_type": "code",
   "execution_count": 5,
   "id": "63515dd5-dfe4-40dd-8ed1-22b0722bc473",
   "metadata": {},
   "outputs": [
    {
     "name": "stdout",
     "output_type": "stream",
     "text": [
      "Speed: 1\n"
     ]
    }
   ],
   "source": [
    "fan.decrease_speed()"
   ]
  },
  {
   "cell_type": "code",
   "execution_count": 6,
   "id": "cfd97fa9-f31c-4895-a0bf-067ae72435d3",
   "metadata": {},
   "outputs": [
    {
     "name": "stdout",
     "output_type": "stream",
     "text": [
      "Fan turned off.\n"
     ]
    }
   ],
   "source": [
    "fan.turn_off()"
   ]
  },
  {
   "cell_type": "code",
   "execution_count": null,
   "id": "ed74d5f5-e3fe-4806-815e-50bf2d60ef02",
   "metadata": {},
   "outputs": [],
   "source": []
  },
  {
   "cell_type": "code",
   "execution_count": 7,
   "id": "4126118f-2f65-4f28-b983-5d75891f69c3",
   "metadata": {},
   "outputs": [
    {
     "name": "stdout",
     "output_type": "stream",
     "text": [
      "Name: Vanshika, Dept: HR, Salary: ₹50000\n"
     ]
    }
   ],
   "source": [
    "class Employee:\n",
    "    def __init__(self, name, salary, department):\n",
    "        self.name = name\n",
    "        self.__salary = salary  # private\n",
    "        self.department = department\n",
    "\n",
    "    def get_details(self):\n",
    "        return f\"Name: {self.name}, Dept: {self.department}, Salary: ₹{self.__salary}\"\n",
    "\n",
    "    def increase_salary(self, percent):\n",
    "        self.__salary += self.__salary * (percent / 100)\n",
    "\n",
    "emp = Employee(\"Vanshika\", 50000, \"HR\")\n",
    "print(emp.get_details())"
   ]
  },
  {
   "cell_type": "code",
   "execution_count": 8,
   "id": "1d23b892-1157-4a3f-bb1b-c17ce0583297",
   "metadata": {},
   "outputs": [
    {
     "name": "stdout",
     "output_type": "stream",
     "text": [
      "Name: Vanshika, Dept: HR, Salary: ₹55000.0\n"
     ]
    }
   ],
   "source": [
    "emp.increase_salary(10)\n",
    "print(emp.get_details())"
   ]
  },
  {
   "cell_type": "code",
   "execution_count": null,
   "id": "5b90691d-10f0-4501-8ca4-b858cde01d33",
   "metadata": {},
   "outputs": [],
   "source": []
  },
  {
   "cell_type": "code",
   "execution_count": 9,
   "id": "2b675d36-aa39-4c11-9560-f1c44c6b3a1d",
   "metadata": {},
   "outputs": [],
   "source": [
    "class BankAccount:\n",
    "    def __init__(self, name, acc_no, balance=0):\n",
    "        self.name = name\n",
    "        self.acc_no = acc_no\n",
    "        self.__balance = balance  # private\n",
    "\n",
    "    def deposit(self, amount):\n",
    "        self.__balance += amount\n",
    "        print(f\"₹{amount} deposited.\")\n",
    "\n",
    "    def withdraw(self, amount):\n",
    "        if amount <= self.__balance:\n",
    "            self.__balance -= amount\n",
    "            print(f\"₹{amount} withdrawn.\")\n",
    "        else:\n",
    "            print(\"Insufficient balance!\")\n",
    "\n",
    "    def check_balance(self):\n",
    "        return f\"Balance: ₹{self.__balance}\""
   ]
  },
  {
   "cell_type": "code",
   "execution_count": 10,
   "id": "960fc658-e285-405a-8eb9-f04b457c3c30",
   "metadata": {},
   "outputs": [],
   "source": [
    "acc = BankAccount(\"vanshika\", \"1234567890\", 1000)"
   ]
  },
  {
   "cell_type": "code",
   "execution_count": 11,
   "id": "9e402265-e646-4905-a190-77c4f96bd31d",
   "metadata": {},
   "outputs": [
    {
     "name": "stdout",
     "output_type": "stream",
     "text": [
      "₹500 deposited.\n"
     ]
    }
   ],
   "source": [
    "acc.deposit(500)"
   ]
  },
  {
   "cell_type": "code",
   "execution_count": 12,
   "id": "3fe27055-0964-4f84-ab70-e24478485e93",
   "metadata": {},
   "outputs": [
    {
     "name": "stdout",
     "output_type": "stream",
     "text": [
      "₹300 withdrawn.\n"
     ]
    }
   ],
   "source": [
    "acc.withdraw(300)"
   ]
  },
  {
   "cell_type": "code",
   "execution_count": 13,
   "id": "a7170999-ac8e-4352-ab1d-b3abab4c11af",
   "metadata": {},
   "outputs": [
    {
     "name": "stdout",
     "output_type": "stream",
     "text": [
      "Balance: ₹1200\n"
     ]
    }
   ],
   "source": [
    "print(acc.check_balance())"
   ]
  },
  {
   "cell_type": "code",
   "execution_count": 14,
   "id": "db6b4641-70cc-47e7-a098-60a517b42e74",
   "metadata": {},
   "outputs": [
    {
     "name": "stdout",
     "output_type": "stream",
     "text": [
      "Insufficient balance!\n"
     ]
    }
   ],
   "source": [
    "acc.withdraw(2000)"
   ]
  },
  {
   "cell_type": "code",
   "execution_count": null,
   "id": "f48e0667-03a2-4dab-9779-92780cac1c42",
   "metadata": {},
   "outputs": [],
   "source": []
  },
  {
   "cell_type": "code",
   "execution_count": 15,
   "id": "2b0949ad-1c97-4ea0-86d4-7fd62b7b723c",
   "metadata": {},
   "outputs": [],
   "source": [
    "class Book:\n",
    "    def __init__(self, title, author, price):\n",
    "        self.title = title\n",
    "        self.author = author\n",
    "        self.price = price\n",
    "        self.__available = True  # private\n",
    "\n",
    "    def borrow_book(self):\n",
    "        if self.__available:\n",
    "            self.__available = False\n",
    "            print(f\"You borrowed '{self.title}'.\")\n",
    "        else:\n",
    "            print(\"Book not available.\")\n",
    "\n",
    "    def return_book(self):\n",
    "        self.__available = True\n",
    "        print(f\"You returned '{self.title}'.\")\n",
    "\n",
    "    def get_book_info(self):\n",
    "        status = \"Available\" if self.__available else \"Not Available\"\n",
    "        return f\"'{self.title}' by {self.author} - ₹{self.price} | {status}\""
   ]
  },
  {
   "cell_type": "code",
   "execution_count": 16,
   "id": "509cf6ad-bb8b-4872-8404-658d032a1ff2",
   "metadata": {},
   "outputs": [
    {
     "name": "stdout",
     "output_type": "stream",
     "text": [
      "'Atomic Habits' by James Clear - ₹499 | Available\n"
     ]
    }
   ],
   "source": [
    "b = Book(\"Atomic Habits\", \"James Clear\", 499)\n",
    "print(b.get_book_info())"
   ]
  },
  {
   "cell_type": "code",
   "execution_count": 17,
   "id": "f6d1e73d-ceae-4313-8533-e8c3ccd79b70",
   "metadata": {},
   "outputs": [
    {
     "name": "stdout",
     "output_type": "stream",
     "text": [
      "You borrowed 'Atomic Habits'.\n",
      "'Atomic Habits' by James Clear - ₹499 | Not Available\n"
     ]
    }
   ],
   "source": [
    "b.borrow_book()\n",
    "print(b.get_book_info())"
   ]
  },
  {
   "cell_type": "code",
   "execution_count": 18,
   "id": "d82c4b66-8779-4413-94bb-15fd68e7fe39",
   "metadata": {},
   "outputs": [
    {
     "name": "stdout",
     "output_type": "stream",
     "text": [
      "You returned 'Atomic Habits'.\n",
      "'Atomic Habits' by James Clear - ₹499 | Available\n"
     ]
    }
   ],
   "source": [
    "b.return_book()\n",
    "print(b.get_book_info())"
   ]
  },
  {
   "cell_type": "code",
   "execution_count": null,
   "id": "989e3fd9-108b-4f96-a7ef-337e8a7da0f5",
   "metadata": {},
   "outputs": [],
   "source": []
  }
 ],
 "metadata": {
  "kernelspec": {
   "display_name": "Python 3 (ipykernel)",
   "language": "python",
   "name": "python3"
  },
  "language_info": {
   "codemirror_mode": {
    "name": "ipython",
    "version": 3
   },
   "file_extension": ".py",
   "mimetype": "text/x-python",
   "name": "python",
   "nbconvert_exporter": "python",
   "pygments_lexer": "ipython3",
   "version": "3.12.7"
  }
 },
 "nbformat": 4,
 "nbformat_minor": 5
}
