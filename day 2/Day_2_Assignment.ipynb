{
 "cells": [
  {
   "cell_type": "code",
   "execution_count": 1,
   "id": "82efff95-f005-4dcc-94e1-2df8854339ef",
   "metadata": {},
   "outputs": [
    {
     "name": "stdin",
     "output_type": "stream",
     "text": [
      "Enter a number:  6\n"
     ]
    },
    {
     "name": "stdout",
     "output_type": "stream",
     "text": [
      "6 is Even\n"
     ]
    }
   ],
   "source": [
    "def check_even_odd(num):\n",
    "    if num % 2 == 0:\n",
    "        print(f\"{num} is Even\")\n",
    "    else:\n",
    "        print(f\"{num} is Odd\")\n",
    "\n",
    "check_even_odd(int(input(\"Enter a number: \")))\n"
   ]
  },
  {
   "cell_type": "code",
   "execution_count": 2,
   "id": "3b4961c6-385d-43fa-b589-45d5b5979a7b",
   "metadata": {},
   "outputs": [
    {
     "name": "stdout",
     "output_type": "stream",
     "text": [
      "    * \n",
      "   * * \n",
      "  * * * \n",
      " * * * * \n",
      "* * * * * \n"
     ]
    }
   ],
   "source": [
    "def print_pyramid(rows):\n",
    "    for i in range(1, rows + 1):\n",
    "        print(' ' * (rows - i) + '* ' * i)\n",
    "\n",
    "print_pyramid(5)\n"
   ]
  },
  {
   "cell_type": "code",
   "execution_count": 4,
   "id": "d3f908ee-881e-4fef-b3bf-5afa3fdce769",
   "metadata": {},
   "outputs": [
    {
     "name": "stdin",
     "output_type": "stream",
     "text": [
      "Enter startup name:  INFLUNS\n"
     ]
    },
    {
     "name": "stdout",
     "output_type": "stream",
     "text": [
      "Hashtag: #INFLUNS\n"
     ]
    }
   ],
   "source": [
    "def hashtag_generator(name):\n",
    "    return f\"#{name}\"\n",
    "\n",
    "startup = input(\"Enter startup name: \")\n",
    "print(\"Hashtag:\", hashtag_generator(startup))\n"
   ]
  },
  {
   "cell_type": "code",
   "execution_count": 5,
   "id": "3b9e08ee-a9a6-4c3a-b918-424f568ff293",
   "metadata": {},
   "outputs": [
    {
     "name": "stdin",
     "output_type": "stream",
     "text": [
      "Enter a number:  6\n"
     ]
    },
    {
     "name": "stdout",
     "output_type": "stream",
     "text": [
      "Factorial of 6 is 720\n"
     ]
    }
   ],
   "source": [
    "def factorial(n):\n",
    "    result = 1\n",
    "    for i in range(2, n + 1):\n",
    "        result *= i\n",
    "    return result\n",
    "\n",
    "num = int(input(\"Enter a number: \"))\n",
    "print(f\"Factorial of {num} is {factorial(num)}\")\n"
   ]
  },
  {
   "cell_type": "code",
   "execution_count": 7,
   "id": "baff97e5-190f-4325-8b2c-49dc84b218a7",
   "metadata": {},
   "outputs": [
    {
     "name": "stdout",
     "output_type": "stream",
     "text": [
      "\n",
      "📘 Student Record:\n",
      "Name: VANSHIKA\n",
      "Age: 17\n",
      "Grade: A+\n",
      "Roll_No: 23\n"
     ]
    }
   ],
   "source": [
    "def student_record(**kwargs):\n",
    "    print(\"\\n📘 Student Record:\")\n",
    "    for key, value in kwargs.items():\n",
    "        print(f\"{key.title()}: {value}\")\n",
    "\n",
    "student_record(name=\"VANSHIKA\", age=17, grade=\"A+\", roll_no=23)\n"
   ]
  },
  {
   "cell_type": "code",
   "execution_count": null,
   "id": "f944f556-81b8-45c1-add8-7540363550eb",
   "metadata": {},
   "outputs": [],
   "source": []
  }
 ],
 "metadata": {
  "kernelspec": {
   "display_name": "Python 3 (ipykernel)",
   "language": "python",
   "name": "python3"
  },
  "language_info": {
   "codemirror_mode": {
    "name": "ipython",
    "version": 3
   },
   "file_extension": ".py",
   "mimetype": "text/x-python",
   "name": "python",
   "nbconvert_exporter": "python",
   "pygments_lexer": "ipython3",
   "version": "3.12.7"
  }
 },
 "nbformat": 4,
 "nbformat_minor": 5
}
