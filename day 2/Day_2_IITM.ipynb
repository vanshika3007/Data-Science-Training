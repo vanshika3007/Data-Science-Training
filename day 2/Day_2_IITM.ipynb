{
 "cells": [
  {
   "cell_type": "code",
   "execution_count": 1,
   "metadata": {
    "id": "CLyY2b14WLxs"
   },
   "outputs": [
    {
     "name": "stdout",
     "output_type": "stream",
     "text": [
      "Collecting qrcode\n",
      "  Downloading qrcode-8.2-py3-none-any.whl.metadata (17 kB)\n",
      "Requirement already satisfied: colorama in c:\\programdata\\anaconda3\\lib\\site-packages (from qrcode) (0.4.6)\n",
      "Downloading qrcode-8.2-py3-none-any.whl (45 kB)\n",
      "Installing collected packages: qrcode\n",
      "Successfully installed qrcode-8.2\n"
     ]
    }
   ],
   "source": [
    "!pip install qrcode\n",
    "import qrcode\n",
    "img = qrcode.make('https://colab.research.google.com/drive/1385I2mII09dDP9aHBhWqaBtuIJwGUZhD?usp=sharing')\n",
    "img.save('myqr.png')\n"
   ]
  },
  {
   "cell_type": "code",
   "execution_count": 2,
   "metadata": {
    "id": "8bNLYjfJXx4b"
   },
   "outputs": [],
   "source": [
    "def check_palindrome(word):\n",
    "    return word"
   ]
  },
  {
   "cell_type": "code",
   "execution_count": 3,
   "metadata": {
    "id": "nllBR8fuaCxY"
   },
   "outputs": [
    {
     "data": {
      "text/plain": [
       "'Ajay'"
      ]
     },
     "execution_count": 3,
     "metadata": {},
     "output_type": "execute_result"
    }
   ],
   "source": [
    "check_palindrome('Ajay')"
   ]
  },
  {
   "cell_type": "code",
   "execution_count": 4,
   "metadata": {
    "id": "Ujd2uBSRaEFI"
   },
   "outputs": [
    {
     "data": {
      "text/plain": [
       "'ykcul'"
      ]
     },
     "execution_count": 4,
     "metadata": {},
     "output_type": "execute_result"
    }
   ],
   "source": [
    "a = 'lucky'\n",
    "a[::-1]"
   ]
  },
  {
   "cell_type": "code",
   "execution_count": 5,
   "metadata": {
    "id": "XI55o5RvaGH1"
   },
   "outputs": [
    {
     "name": "stdout",
     "output_type": "stream",
     "text": [
      "nitin is a Palindrome\n"
     ]
    }
   ],
   "source": [
    "a = 'nitin'\n",
    "\n",
    "if a == a[::-1]:\n",
    "  print(f'{a} is a Palindrome')\n",
    "else:\n",
    "  print(f'{a} is Not a Palindrome')"
   ]
  },
  {
   "cell_type": "code",
   "execution_count": 6,
   "metadata": {
    "id": "ok8GCZ8MaVb6"
   },
   "outputs": [],
   "source": [
    "def check_palindrome(word:str):\n",
    "  if type(word) == str:\n",
    "    word = word.upper()\n",
    "    if word == word[::-1]:\n",
    "      return 'Palindrome'\n",
    "    else:\n",
    "      return 'Not a Plaindrome'\n",
    "  else:\n",
    "    return 'Invalid Data Type'"
   ]
  },
  {
   "cell_type": "code",
   "execution_count": 7,
   "metadata": {
    "id": "njLsiJVHb-If"
   },
   "outputs": [
    {
     "data": {
      "text/plain": [
       "'Not a Plaindrome'"
      ]
     },
     "execution_count": 7,
     "metadata": {},
     "output_type": "execute_result"
    }
   ],
   "source": [
    "check_palindrome('harry')"
   ]
  },
  {
   "cell_type": "code",
   "execution_count": 8,
   "metadata": {
    "id": "AnVqjrLicHLJ"
   },
   "outputs": [
    {
     "name": "stdout",
     "output_type": "stream",
     "text": [
      "Mohan\n"
     ]
    }
   ],
   "source": [
    "a:int = 'Mohan'\n",
    "print(a)"
   ]
  },
  {
   "cell_type": "code",
   "execution_count": 9,
   "metadata": {
    "id": "rCTS4b2vdKOC"
   },
   "outputs": [],
   "source": [
    "def give_fibo(n):\n",
    "  fibo = [0,1]\n",
    "  for i in range(n-2):\n",
    "     last_num = fibo[-1]\n",
    "     second_last_num = fibo[-2]\n",
    "     next_num = last_num + second_last_num\n",
    "     fibo.append(next_num)\n",
    "  return fibo"
   ]
  },
  {
   "cell_type": "code",
   "execution_count": 10,
   "metadata": {
    "id": "lF_uy22qhM6o"
   },
   "outputs": [
    {
     "name": "stdout",
     "output_type": "stream",
     "text": [
      "856\n",
      "76\n"
     ]
    }
   ],
   "source": [
    "data = [34,65,654,76,856]\n",
    "print(data[-1])\n",
    "print(data[-2])"
   ]
  },
  {
   "cell_type": "code",
   "execution_count": 11,
   "metadata": {
    "id": "uBc1wq6XhW3y"
   },
   "outputs": [],
   "source": [
    "def give_fibo(n):\n",
    "  fibo = [0,1]\n",
    "  for i in range(n-2):\n",
    "     last_num = fibo[-1]\n",
    "     second_last_num = fibo[-2]\n",
    "     next_num = last_num + second_last_num\n",
    "     fibo.append(next_num)\n",
    "  return fibo"
   ]
  },
  {
   "cell_type": "code",
   "execution_count": 12,
   "metadata": {
    "id": "2cPUanZAqfmS"
   },
   "outputs": [
    {
     "name": "stdout",
     "output_type": "stream",
     "text": [
      "[0, 1, 1, 2, 3, 5, 8, 13, 21, 34, 55, 89, 144, 233, 377, 610, 987, 1597, 2584, 4181]\n"
     ]
    }
   ],
   "source": [
    "print(give_fibo(20))"
   ]
  },
  {
   "cell_type": "code",
   "execution_count": 13,
   "metadata": {
    "id": "lVYbJ0YVqjRp"
   },
   "outputs": [],
   "source": [
    "def check_prime(number):\n",
    "    for i in range(2,number):\n",
    "        if number % i == 0:\n",
    "            return 'Not a Prime Number'\n",
    "            break\n",
    "            print('Happy Holi')\n",
    "    else:\n",
    "        return 'Prime Number'"
   ]
  },
  {
   "cell_type": "code",
   "execution_count": 14,
   "metadata": {
    "id": "Zv3KcRAAqlcG"
   },
   "outputs": [
    {
     "name": "stdout",
     "output_type": "stream",
     "text": [
      "* \n",
      "* * \n",
      "* * * \n",
      "* * * * \n",
      "* * * * * \n"
     ]
    }
   ],
   "source": [
    "n = 5\n",
    "\n",
    "for i in range(1,n+1):\n",
    "  print(i * '* ')"
   ]
  },
  {
   "cell_type": "code",
   "execution_count": 15,
   "metadata": {
    "id": "d9ilhtV6q-0c"
   },
   "outputs": [
    {
     "name": "stdout",
     "output_type": "stream",
     "text": [
      "    * \n",
      "   * * \n",
      "  * * * \n",
      " * * * * \n",
      "* * * * * \n"
     ]
    }
   ],
   "source": [
    "n = 5\n",
    "\n",
    "for i in range(1,n+1):\n",
    "  print(' '*(n-i) + i*'* ')"
   ]
  },
  {
   "cell_type": "code",
   "execution_count": 16,
   "metadata": {
    "id": "DyZQ6QXZr7fU"
   },
   "outputs": [
    {
     "data": {
      "text/plain": [
       "'helloWorld'"
      ]
     },
     "execution_count": 16,
     "metadata": {},
     "output_type": "execute_result"
    }
   ],
   "source": [
    "'hello' + 'World'"
   ]
  },
  {
   "cell_type": "code",
   "execution_count": 17,
   "metadata": {
    "id": "aJuGwVuCsDGS"
   },
   "outputs": [],
   "source": [
    "def print_star(n = 5, typ = 'left',shape = '*'):\n",
    "  if typ  == 'left':\n",
    "    space  = ''\n",
    "\n",
    "  elif typ == 'right':\n",
    "    space = '  '\n",
    "\n",
    "  elif typ == 'mid':\n",
    "    space = ' '\n",
    "\n",
    "  for i in range(1,n+1):\n",
    "    print(space*(n-i) + i*f'{shape} ')"
   ]
  },
  {
   "cell_type": "code",
   "execution_count": 18,
   "metadata": {
    "id": "XFepMRuRt3Qe"
   },
   "outputs": [
    {
     "name": "stdout",
     "output_type": "stream",
     "text": [
      "% \n",
      "% % \n",
      "% % % \n",
      "% % % % \n",
      "% % % % % \n",
      "% % % % % % \n"
     ]
    }
   ],
   "source": [
    "print_star(6,'left','%')"
   ]
  },
  {
   "cell_type": "code",
   "execution_count": 19,
   "metadata": {
    "id": "PthSYc2lt6Ot"
   },
   "outputs": [],
   "source": [
    "def sum_of_n_natural_numbers(n):\n",
    "    result = 0\n",
    "    for i in range(1,n+1):\n",
    "        result += i\n",
    "    return result"
   ]
  },
  {
   "cell_type": "code",
   "execution_count": 20,
   "metadata": {
    "id": "82Ndecj50K98"
   },
   "outputs": [],
   "source": [
    "def factorial(n):\n",
    "    result = 1\n",
    "    for i in range(1,n+1):\n",
    "        result *= i\n",
    "    return result"
   ]
  },
  {
   "cell_type": "code",
   "execution_count": 21,
   "metadata": {
    "id": "isVCSfQY1mgO"
   },
   "outputs": [],
   "source": [
    "def total_sales(*args):\n",
    "  #unpacking\n",
    "  result = 0\n",
    "  for i in args:\n",
    "    result += i\n",
    "  return result"
   ]
  },
  {
   "cell_type": "code",
   "execution_count": 22,
   "metadata": {
    "id": "fTIKDTYYAIaB"
   },
   "outputs": [
    {
     "data": {
      "text/plain": [
       "233"
      ]
     },
     "execution_count": 22,
     "metadata": {},
     "output_type": "execute_result"
    }
   ],
   "source": [
    "total_sales(1,2,76,56,98)"
   ]
  },
  {
   "cell_type": "code",
   "execution_count": 23,
   "metadata": {
    "id": "LRyJm2kpARna"
   },
   "outputs": [],
   "source": [
    "sales = [45678,63,456,347,3245]\n",
    "\n",
    "# min(sales)"
   ]
  },
  {
   "cell_type": "code",
   "execution_count": 24,
   "metadata": {
    "id": "iq_tKd8eC6PU"
   },
   "outputs": [
    {
     "name": "stdout",
     "output_type": "stream",
     "text": [
      "0\n"
     ]
    }
   ],
   "source": [
    "sales = [45678,63,456,2,0]\n",
    "min_element = sales[0]\n",
    "\n",
    "for i in sales[1:]:\n",
    "  if i < min_element:\n",
    "    min_element = i\n",
    "print(min_element)"
   ]
  },
  {
   "cell_type": "code",
   "execution_count": 25,
   "metadata": {
    "id": "XexWHoFvEZBM"
   },
   "outputs": [],
   "source": [
    "def minn(*data):\n",
    "  min_ele = data[0]\n",
    "  for i in data[1:]:\n",
    "    if i< min_ele:\n",
    "      min_ele = i\n",
    "  return min_ele"
   ]
  },
  {
   "cell_type": "code",
   "execution_count": 26,
   "metadata": {
    "id": "WYXITR0iIhSV"
   },
   "outputs": [
    {
     "data": {
      "text/plain": [
       "8"
      ]
     },
     "execution_count": 26,
     "metadata": {},
     "output_type": "execute_result"
    }
   ],
   "source": [
    "minn(376,246,354,8,667,468)"
   ]
  },
  {
   "cell_type": "code",
   "execution_count": 27,
   "metadata": {
    "id": "QvTxJzf-Ii9k"
   },
   "outputs": [],
   "source": [
    "# max()"
   ]
  },
  {
   "cell_type": "code",
   "execution_count": 28,
   "metadata": {
    "id": "tcHcT6A8LA0k"
   },
   "outputs": [],
   "source": [
    "company = ['ola','uber','rapido','indrive','adani','tata']\n",
    "\n",
    "# ['#OLA','#UBER','#RAPIDO']\n",
    "\n",
    "\n",
    "\n",
    "def add_hashtag(*company):\n",
    "  result = []\n",
    "  for i in company:\n",
    "    result.append('#'+i.upper())\n",
    "  return result\n"
   ]
  },
  {
   "cell_type": "code",
   "execution_count": 29,
   "metadata": {
    "id": "sT66v49_LIMw"
   },
   "outputs": [
    {
     "data": {
      "text/plain": [
       "['#OLA', '#UBER', '#RAPIDO', '#INDRIVE', '#ADANI', '#TATA']"
      ]
     },
     "execution_count": 29,
     "metadata": {},
     "output_type": "execute_result"
    }
   ],
   "source": [
    "add_hashtag(*company)"
   ]
  },
  {
   "cell_type": "code",
   "execution_count": 30,
   "metadata": {
    "id": "rTRnaNAlMNlw"
   },
   "outputs": [],
   "source": [
    "def store_records(name,age,sec,roll_no,Class):\n",
    "  data = {'Name':name,'Age':age,'Sec':sec,'Roll_NO':roll_no,'Class':Class}\n",
    "  import pandas as pd\n",
    "  result = pd.DataFrame(data,index = [0])\n",
    "  return result"
   ]
  },
  {
   "cell_type": "code",
   "execution_count": 31,
   "metadata": {
    "id": "E4rQEvnKQeRH"
   },
   "outputs": [
    {
     "data": {
      "text/html": [
       "<div>\n",
       "<style scoped>\n",
       "    .dataframe tbody tr th:only-of-type {\n",
       "        vertical-align: middle;\n",
       "    }\n",
       "\n",
       "    .dataframe tbody tr th {\n",
       "        vertical-align: top;\n",
       "    }\n",
       "\n",
       "    .dataframe thead th {\n",
       "        text-align: right;\n",
       "    }\n",
       "</style>\n",
       "<table border=\"1\" class=\"dataframe\">\n",
       "  <thead>\n",
       "    <tr style=\"text-align: right;\">\n",
       "      <th></th>\n",
       "      <th>Name</th>\n",
       "      <th>Age</th>\n",
       "      <th>Sec</th>\n",
       "      <th>Roll_NO</th>\n",
       "      <th>Class</th>\n",
       "    </tr>\n",
       "  </thead>\n",
       "  <tbody>\n",
       "    <tr>\n",
       "      <th>0</th>\n",
       "      <td>Naman</td>\n",
       "      <td>21</td>\n",
       "      <td>A</td>\n",
       "      <td>12</td>\n",
       "      <td>12</td>\n",
       "    </tr>\n",
       "  </tbody>\n",
       "</table>\n",
       "</div>"
      ],
      "text/plain": [
       "    Name  Age Sec  Roll_NO  Class\n",
       "0  Naman   21   A       12     12"
      ]
     },
     "execution_count": 31,
     "metadata": {},
     "output_type": "execute_result"
    }
   ],
   "source": [
    "store_records('Mohan',21,'A',12,12)\n",
    "store_records('Karan',21,'A',12,12)\n",
    "store_records('Naman',21,'A',12,12)"
   ]
  },
  {
   "cell_type": "code",
   "execution_count": 32,
   "metadata": {
    "id": "i25EWlxqROPn"
   },
   "outputs": [],
   "source": [
    "def students_records(**kwargs):\n",
    "    # print(kwargs)\n",
    "    # try exception\n",
    "    import pandas as pd\n",
    "    try:\n",
    "        result = pd.DataFrame(kwargs)\n",
    "        return result\n",
    "    except:\n",
    "        result = pd.DataFrame(kwargs,index = [1])\n",
    "        return result"
   ]
  },
  {
   "cell_type": "code",
   "execution_count": 33,
   "metadata": {
    "id": "m2HWSfVbXL8B"
   },
   "outputs": [
    {
     "data": {
      "text/html": [
       "<div>\n",
       "<style scoped>\n",
       "    .dataframe tbody tr th:only-of-type {\n",
       "        vertical-align: middle;\n",
       "    }\n",
       "\n",
       "    .dataframe tbody tr th {\n",
       "        vertical-align: top;\n",
       "    }\n",
       "\n",
       "    .dataframe thead th {\n",
       "        text-align: right;\n",
       "    }\n",
       "</style>\n",
       "<table border=\"1\" class=\"dataframe\">\n",
       "  <thead>\n",
       "    <tr style=\"text-align: right;\">\n",
       "      <th></th>\n",
       "      <th>Name</th>\n",
       "      <th>Age</th>\n",
       "      <th>Roll_No</th>\n",
       "      <th>Address</th>\n",
       "    </tr>\n",
       "  </thead>\n",
       "  <tbody>\n",
       "    <tr>\n",
       "      <th>0</th>\n",
       "      <td>Komal</td>\n",
       "      <td>23</td>\n",
       "      <td>23</td>\n",
       "      <td>Noida</td>\n",
       "    </tr>\n",
       "    <tr>\n",
       "      <th>1</th>\n",
       "      <td>Mohan</td>\n",
       "      <td>45</td>\n",
       "      <td>32</td>\n",
       "      <td>Delhi</td>\n",
       "    </tr>\n",
       "    <tr>\n",
       "      <th>2</th>\n",
       "      <td>Ajay</td>\n",
       "      <td>56</td>\n",
       "      <td>67</td>\n",
       "      <td>Greater Noida</td>\n",
       "    </tr>\n",
       "  </tbody>\n",
       "</table>\n",
       "</div>"
      ],
      "text/plain": [
       "    Name  Age  Roll_No        Address\n",
       "0  Komal   23       23          Noida\n",
       "1  Mohan   45       32          Delhi\n",
       "2   Ajay   56       67  Greater Noida"
      ]
     },
     "execution_count": 33,
     "metadata": {},
     "output_type": "execute_result"
    }
   ],
   "source": [
    "students_records(Name = ['Komal','Mohan','Ajay'],\n",
    "                 Age = [23,45,56],\n",
    "                 Roll_No = [23,32,67],\n",
    "                 Address = ['Noida','Delhi','Greater Noida'])"
   ]
  }
 ],
 "metadata": {
  "colab": {
   "private_outputs": true,
   "provenance": []
  },
  "kernelspec": {
   "display_name": "Python 3 (ipykernel)",
   "language": "python",
   "name": "python3"
  },
  "language_info": {
   "codemirror_mode": {
    "name": "ipython",
    "version": 3
   },
   "file_extension": ".py",
   "mimetype": "text/x-python",
   "name": "python",
   "nbconvert_exporter": "python",
   "pygments_lexer": "ipython3",
   "version": "3.12.7"
  }
 },
 "nbformat": 4,
 "nbformat_minor": 4
}
