{
 "cells": [
  {
   "cell_type": "code",
   "execution_count": 1,
   "id": "554f4a88-21e2-4f9d-bf26-9bd5fb2de64e",
   "metadata": {},
   "outputs": [
    {
     "name": "stdout",
     "output_type": "stream",
     "text": [
      "Done\n"
     ]
    }
   ],
   "source": [
    "import pickle\n",
    "import warnings\n",
    "with open('capita_pred.pkl','rb') as f:\n",
    "    chatgpt = pickle.load(f)\n",
    "print('Done')"
   ]
  },
  {
   "cell_type": "code",
   "execution_count": 2,
   "id": "664d1142-7d04-44de-bf22-fed801fd3190",
   "metadata": {},
   "outputs": [
    {
     "name": "stdin",
     "output_type": "stream",
     "text": [
      "Enter year to predict capita:  2045\n"
     ]
    },
    {
     "name": "stdout",
     "output_type": "stream",
     "text": [
      "\n",
      "Year:2045\n",
      "Capita in USD($):62000.32\n"
     ]
    }
   ],
   "source": [
    "import warnings\n",
    "warnings.filterwarnings('ignore')\n",
    "year = float(input('Enter year to predict capita: '))\n",
    "\n",
    "final_year = [[year]]\n",
    "\n",
    "capita = round(chatgpt.predict(final_year)[0],2)\n",
    "\n",
    "print(f'''\n",
    "Year:{int(year)}\n",
    "Capita in USD($):{capita}''')"
   ]
  },
  {
   "cell_type": "code",
   "execution_count": null,
   "id": "2c95e70a-79d9-446f-8afb-b62b5799483a",
   "metadata": {},
   "outputs": [],
   "source": []
  }
 ],
 "metadata": {
  "kernelspec": {
   "display_name": "Python 3 (ipykernel)",
   "language": "python",
   "name": "python3"
  },
  "language_info": {
   "codemirror_mode": {
    "name": "ipython",
    "version": 3
   },
   "file_extension": ".py",
   "mimetype": "text/x-python",
   "name": "python",
   "nbconvert_exporter": "python",
   "pygments_lexer": "ipython3",
   "version": "3.12.7"
  }
 },
 "nbformat": 4,
 "nbformat_minor": 5
}
