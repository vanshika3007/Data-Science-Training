{
 "cells": [
  {
   "cell_type": "markdown",
   "id": "df206cd7-4b17-42fd-8f19-491e9b89e152",
   "metadata": {},
   "source": [
    "INHERITANCE\n"
   ]
  },
  {
   "cell_type": "code",
   "execution_count": 1,
   "id": "58ce6b31-cc35-4fa8-a7d9-9aca860e5566",
   "metadata": {},
   "outputs": [],
   "source": [
    "class A:\n",
    "\n",
    "    def i_am_a():\n",
    "        print('I am a Func of Class A')\n",
    "\n",
    "    def i_am_b():\n",
    "        print('I am b Func of Class B')\n",
    "\n",
    "\n",
    "class B:\n",
    "\n",
    "    def i_am_b():\n",
    "        print('I am b Func of Class B')"
   ]
  },
  {
   "cell_type": "code",
   "execution_count": 2,
   "id": "56d2bc6c-23a0-4405-8820-c80883f17ffb",
   "metadata": {},
   "outputs": [],
   "source": [
    "ob_a =A()\n",
    "ob_b =B()"
   ]
  },
  {
   "cell_type": "code",
   "execution_count": 3,
   "id": "298339e8-ece7-4e29-a2a1-ab71a8361e32",
   "metadata": {},
   "outputs": [],
   "source": [
    "#simple inheritance\n",
    "#multiple inheritance\n",
    "#multilevel inheritance\n",
    "#hybrid inheritance"
   ]
  },
  {
   "cell_type": "code",
   "execution_count": 4,
   "id": "1c47d2c8-e1b6-4517-aba0-b6eedb821d13",
   "metadata": {},
   "outputs": [],
   "source": [
    "class BMW:\n",
    "\n",
    "  def super_turbo_engine(self):\n",
    "    print('super_turbo_engine Fast Speed')\n",
    "\n",
    "class Audi(BMW):\n",
    "\n",
    "  def auto_pilot(self):\n",
    "    print('Can run on Auto Pilot Mode!!')"
   ]
  },
  {
   "cell_type": "code",
   "execution_count": 5,
   "id": "13b66dea-891b-4c46-b698-c6046738a145",
   "metadata": {},
   "outputs": [],
   "source": [
    "audi_r8 = Audi()"
   ]
  },
  {
   "cell_type": "code",
   "execution_count": 6,
   "id": "290e6301-fe3e-496c-8505-d53fa1929721",
   "metadata": {},
   "outputs": [
    {
     "name": "stdout",
     "output_type": "stream",
     "text": [
      "Can run on Auto Pilot Mode!!\n"
     ]
    }
   ],
   "source": [
    "audi_r8.auto_pilot()"
   ]
  },
  {
   "cell_type": "code",
   "execution_count": 7,
   "id": "42c6f5fc-82aa-4d17-aa5d-3ad033231f5f",
   "metadata": {},
   "outputs": [
    {
     "name": "stdout",
     "output_type": "stream",
     "text": [
      "super_turbo_engine Fast Speed\n"
     ]
    }
   ],
   "source": [
    "audi_r8.super_turbo_engine()"
   ]
  },
  {
   "cell_type": "code",
   "execution_count": 8,
   "id": "21327cab-bb27-490f-b920-9b0f10ed1d2a",
   "metadata": {},
   "outputs": [],
   "source": [
    "# Multiple Inheritance"
   ]
  },
  {
   "cell_type": "code",
   "execution_count": 9,
   "id": "dc8954fe-8067-4d25-b495-e06f794f9200",
   "metadata": {},
   "outputs": [],
   "source": [
    "class Daily_Object:\n",
    "  def phone_case(self):\n",
    "    print('Strong Build Phone Case')\n",
    "\n",
    "class JBL:\n",
    "  def sonic_speaker(self):\n",
    "    print('High Quality Sound Speaker')\n",
    "\n",
    "class Samsung:\n",
    "  def screen_display(self):\n",
    "    print('4k HD Display')\n",
    "\n",
    "class Nvidia:\n",
    "  def motherboard(self):\n",
    "    print('Fast motherboard')\n",
    "\n",
    "class Sony:\n",
    "  def camera(self):\n",
    "    print('4k Camera')\n",
    "\n",
    "class Lava:\n",
    "  def charger(self):\n",
    "    print('SuperFast Charger')\n",
    "\n",
    "class One_Plus:\n",
    "  def charger(self):\n",
    "    print('Original Superfast Charger!!')\n",
    "\n",
    "\n",
    "class Mobile(Daily_Object,JBL,Samsung,Nvidia,Sony,Lava,One_Plus):\n",
    "  def __init__(self):\n",
    "    print('Phone Object Created Successfully!!')\n",
    "\n",
    "\n",
    "  def charger(self):\n",
    "    print('Actual Charger From Mobile!!')\n",
    "  #...\n",
    "      \n",
    "  #pass  "
   ]
  },
  {
   "cell_type": "code",
   "execution_count": 10,
   "id": "fc8e491e-3b90-4e9c-ba7d-958e0597b031",
   "metadata": {},
   "outputs": [
    {
     "name": "stdout",
     "output_type": "stream",
     "text": [
      "Phone Object Created Successfully!!\n"
     ]
    }
   ],
   "source": [
    "nothing = Mobile()"
   ]
  },
  {
   "cell_type": "code",
   "execution_count": 11,
   "id": "9f92e352-3729-4da5-94d4-770be7f0b52d",
   "metadata": {},
   "outputs": [
    {
     "name": "stdout",
     "output_type": "stream",
     "text": [
      "4k Camera\n"
     ]
    }
   ],
   "source": [
    "nothing.camera()"
   ]
  },
  {
   "cell_type": "code",
   "execution_count": 12,
   "id": "502c8868-76e3-44b9-8783-50859692f0f3",
   "metadata": {},
   "outputs": [
    {
     "name": "stdout",
     "output_type": "stream",
     "text": [
      "4k HD Display\n"
     ]
    }
   ],
   "source": [
    "nothing.screen_display()"
   ]
  },
  {
   "cell_type": "code",
   "execution_count": 13,
   "id": "91ee6cb1-a7e6-411e-bf28-fa944a3adc09",
   "metadata": {},
   "outputs": [
    {
     "name": "stdout",
     "output_type": "stream",
     "text": [
      "Actual Charger From Mobile!!\n"
     ]
    }
   ],
   "source": [
    "nothing.charger()"
   ]
  },
  {
   "cell_type": "code",
   "execution_count": 14,
   "id": "dd8e7e87-c3e1-49da-8e1b-f567d8d6346d",
   "metadata": {},
   "outputs": [
    {
     "name": "stdout",
     "output_type": "stream",
     "text": [
      "Actual Charger From Mobile!!\n"
     ]
    }
   ],
   "source": [
    "nothing.charger()"
   ]
  },
  {
   "cell_type": "code",
   "execution_count": 15,
   "id": "5696fc4a-8063-4edb-9534-5fc336ef6119",
   "metadata": {},
   "outputs": [],
   "source": [
    "class GrandFather:\n",
    "  def land_property(self):\n",
    "    print('Land Property!!')\n",
    "\n",
    "class Father(GrandFather):\n",
    "  def bank_balance(self):\n",
    "    print('Big Money Player, Huge Bank Balance')\n",
    "\n",
    "class Son(Father):\n",
    "  def political_power(self):\n",
    "    print('Political Powers')\n",
    "\n",
    "class GrandSon(Son):\n",
    "  def mind(self):\n",
    "    print('Mind For Self Study!!')\n",
    "\n",
    "class Friend(GrandSon):\n",
    "  def __init__(self):\n",
    "    print('Nothing!!')"
   ]
  },
  {
   "cell_type": "code",
   "execution_count": 16,
   "id": "81a34a17-0491-41ea-956b-1d0705bd1d98",
   "metadata": {},
   "outputs": [],
   "source": [
    "aman = GrandSon()"
   ]
  },
  {
   "cell_type": "code",
   "execution_count": 17,
   "id": "8394a85f-3664-48a7-a815-eb67de0cd8c4",
   "metadata": {},
   "outputs": [
    {
     "name": "stdout",
     "output_type": "stream",
     "text": [
      "Big Money Player, Huge Bank Balance\n"
     ]
    }
   ],
   "source": [
    "aman.bank_balance()"
   ]
  },
  {
   "cell_type": "code",
   "execution_count": 18,
   "id": "a31b21b0-425f-4e34-bbf3-e6ddc3288f2a",
   "metadata": {},
   "outputs": [
    {
     "name": "stdout",
     "output_type": "stream",
     "text": [
      "Nothing!!\n"
     ]
    }
   ],
   "source": [
    "karan = Friend()"
   ]
  },
  {
   "cell_type": "code",
   "execution_count": 19,
   "id": "774e1dd8-3bb1-4271-95a7-210a288744a8",
   "metadata": {},
   "outputs": [
    {
     "name": "stdout",
     "output_type": "stream",
     "text": [
      "Political Powers\n"
     ]
    }
   ],
   "source": [
    "karan.political_power()\n"
   ]
  },
  {
   "cell_type": "code",
   "execution_count": 20,
   "id": "df11f3b9-4731-483c-b485-05c605723d86",
   "metadata": {},
   "outputs": [],
   "source": [
    "class Hybrid_class(Mobile,Friend,Audi): # Mobile(Mul)\n",
    "  def __init__(self):\n",
    "    print('This is a Hybrid Class')\n",
    "\n",
    "\n",
    "def info(self):\n",
    "    print('It can call any methods!!')"
   ]
  },
  {
   "cell_type": "code",
   "execution_count": 21,
   "id": "abcb89a7-8c97-45ac-8b97-17fe2e45fa06",
   "metadata": {},
   "outputs": [
    {
     "name": "stdout",
     "output_type": "stream",
     "text": [
      "This is a Hybrid Class\n"
     ]
    }
   ],
   "source": [
    "ob = Hybrid_class()"
   ]
  },
  {
   "cell_type": "code",
   "execution_count": 22,
   "id": "6447e58d-9baf-481b-be84-e323dfa0e1cf",
   "metadata": {},
   "outputs": [
    {
     "name": "stdout",
     "output_type": "stream",
     "text": [
      "Actual Charger From Mobile!!\n"
     ]
    }
   ],
   "source": [
    "ob.charger()"
   ]
  },
  {
   "cell_type": "code",
   "execution_count": 23,
   "id": "22ac24bd-5337-48a3-89f1-3ebe72fea45e",
   "metadata": {},
   "outputs": [
    {
     "name": "stdout",
     "output_type": "stream",
     "text": [
      "Strong Build Phone Case\n"
     ]
    }
   ],
   "source": [
    "ob.phone_case()"
   ]
  },
  {
   "cell_type": "code",
   "execution_count": 24,
   "id": "2a49f59c-827d-4d76-91cc-6a7c8b982eb4",
   "metadata": {},
   "outputs": [],
   "source": [
    "class UGC:  # Parent Class\n",
    "  def __init__(self):\n",
    "    print('Grant Permission')\n",
    "  def college_approved(self):\n",
    "    print('College Has been Approved')\n",
    "\n",
    "class DU(UGC):\n",
    "  def multiple_colleges(self):\n",
    "    print('List of Colleges!!')\n",
    "\n",
    "class IP(UGC):\n",
    "  def multiple_colleges(self):\n",
    "    print('List of Colleges!!')\n",
    "\n",
    "\n",
    "class DTU(UGC):\n",
    "  def multiple_colleges(self):\n",
    "    print('List of Colleges!!')\n",
    "\n",
    "class BHU(UGC):\n",
    "  def multiple_colleges(self):\n",
    "    print('List of Colleges!!')"
   ]
  },
  {
   "cell_type": "markdown",
   "id": "2cb11fdc-b6e2-4fe8-a71b-df68267ee447",
   "metadata": {},
   "source": [
    "POLYMORPHISM"
   ]
  },
  {
   "cell_type": "code",
   "execution_count": 25,
   "id": "ece2d691-ff2c-4793-9684-6c51f7790b84",
   "metadata": {},
   "outputs": [
    {
     "data": {
      "text/plain": [
       "79"
      ]
     },
     "execution_count": 25,
     "metadata": {},
     "output_type": "execute_result"
    }
   ],
   "source": [
    "a = 34\n",
    "b = 45\n",
    "\n",
    "a + b"
   ]
  },
  {
   "cell_type": "code",
   "execution_count": null,
   "id": "129ff153-e19e-4526-8146-cbd01c496d6e",
   "metadata": {},
   "outputs": [],
   "source": []
  },
  {
   "cell_type": "code",
   "execution_count": 26,
   "id": "4d2bc7bb-c227-4440-b56e-a9260c50a174",
   "metadata": {},
   "outputs": [
    {
     "data": {
      "text/plain": [
       "[35, 454, 546, 35, 45, 654]"
      ]
     },
     "execution_count": 26,
     "metadata": {},
     "output_type": "execute_result"
    }
   ],
   "source": [
    "a = [35,454,546]\n",
    "b = [35,45,654]\n",
    "\n",
    "a + b"
   ]
  },
  {
   "cell_type": "code",
   "execution_count": 27,
   "id": "c1aa6975-814d-441e-9868-dc33b49c03b6",
   "metadata": {},
   "outputs": [
    {
     "data": {
      "text/plain": [
       "5"
      ]
     },
     "execution_count": 27,
     "metadata": {},
     "output_type": "execute_result"
    }
   ],
   "source": [
    "a = 'harry'\n",
    "len(a)"
   ]
  },
  {
   "cell_type": "code",
   "execution_count": 28,
   "id": "3433bb8f-58e5-4ee7-9818-0470a3e0feb5",
   "metadata": {},
   "outputs": [
    {
     "data": {
      "text/plain": [
       "2"
      ]
     },
     "execution_count": 28,
     "metadata": {},
     "output_type": "execute_result"
    }
   ],
   "source": [
    "a = ['harry','jatin']\n",
    "len(a)"
   ]
  },
  {
   "cell_type": "code",
   "execution_count": 29,
   "id": "b759adfc-faa4-4879-b549-4e323ea313fb",
   "metadata": {},
   "outputs": [
    {
     "data": {
      "text/plain": [
       "3"
      ]
     },
     "execution_count": 29,
     "metadata": {},
     "output_type": "execute_result"
    }
   ],
   "source": [
    "def ste(a):\n",
    "  return str(a)\n",
    "\n",
    "a = ste(567)\n",
    "len(a)"
   ]
  },
  {
   "cell_type": "code",
   "execution_count": 30,
   "id": "8498241e-ae3c-44ba-a3c2-57d8ec192325",
   "metadata": {},
   "outputs": [],
   "source": [
    "# overriding\n",
    "# overloading"
   ]
  },
  {
   "cell_type": "code",
   "execution_count": 31,
   "id": "a1c2499f-6a14-4529-9cf9-1de291cebf3c",
   "metadata": {},
   "outputs": [
    {
     "name": "stdout",
     "output_type": "stream",
     "text": [
      "None <class 'NoneType'>\n"
     ]
    }
   ],
   "source": [
    "a = 45\n",
    "\n",
    "a = '45'\n",
    "\n",
    "a = None\n",
    "\n",
    "print(a,type(a))"
   ]
  },
  {
   "cell_type": "code",
   "execution_count": 32,
   "id": "0590ad22-a807-42b2-aa1b-8465f78175be",
   "metadata": {},
   "outputs": [
    {
     "name": "stdout",
     "output_type": "stream",
     "text": [
      "F1 Car Speed:  Max speed 200 km/hr\n",
      "F1 Car Speed:  Max speed 250 km/hr\n",
      "F1 Car Speed:  Max speed 300 km/hr\n"
     ]
    }
   ],
   "source": [
    "class Car:\n",
    "  def speed(self):\n",
    "    return('Max speed 200 km/hr')\n",
    "\n",
    "  def auto_pilot(self):\n",
    "    return('It supports Auto Pilot Mode!!')\n",
    "\n",
    "  def info(self):\n",
    "    return('This is just a car object')\n",
    "\n",
    "\n",
    "class Bmw(Car):\n",
    "  def speed(self):\n",
    "    return('Max speed 250 km/hr')\n",
    "\n",
    "  def info(self):\n",
    "    return('A BMW car object')\n",
    "\n",
    "\n",
    "\n",
    "class Audi(Car):\n",
    "  def speed(self):\n",
    "    return('Max speed 300 km/hr')\n",
    "\n",
    "  def info(self):\n",
    "    return('Audi car🏎️')\n",
    "\n",
    "\n",
    "\n",
    "\n",
    "\n",
    "for i in [Car,Bmw,Audi]:\n",
    "  f1 = i()\n",
    "  print('F1 Car Speed: ',f1.speed())\n",
    "\n"
   ]
  },
  {
   "cell_type": "code",
   "execution_count": 33,
   "id": "67dcd7de-79fb-4bf8-ba30-21f16d193fd4",
   "metadata": {},
   "outputs": [
    {
     "name": "stdout",
     "output_type": "stream",
     "text": [
      "Max speed 200 km/hr\n"
     ]
    }
   ],
   "source": [
    "f1 = Car()\n",
    "print(f1.speed())"
   ]
  },
  {
   "cell_type": "code",
   "execution_count": 34,
   "id": "88edc8fb-0d40-487e-81e2-8b8e23d7a77f",
   "metadata": {},
   "outputs": [
    {
     "name": "stdout",
     "output_type": "stream",
     "text": [
      "Max speed 250 km/hr\n"
     ]
    }
   ],
   "source": [
    "f1 = Bmw()\n",
    "print(f1.speed())"
   ]
  },
  {
   "cell_type": "code",
   "execution_count": 35,
   "id": "dc5a349f-9a32-4036-9da5-88b1c4c17d5d",
   "metadata": {},
   "outputs": [
    {
     "name": "stdout",
     "output_type": "stream",
     "text": [
      "Max speed 300 km/hr\n"
     ]
    }
   ],
   "source": [
    "f1 = Audi()\n",
    "print(f1.speed())"
   ]
  },
  {
   "cell_type": "code",
   "execution_count": 36,
   "id": "61d36f7b-aefa-43d0-b9a3-e53664355a29",
   "metadata": {},
   "outputs": [
    {
     "name": "stdout",
     "output_type": "stream",
     "text": [
      "Hello komal,how are you??\n",
      "Your Address is Delhi\n"
     ]
    }
   ],
   "source": [
    "class IITM:\n",
    "\n",
    "  def intro(self):\n",
    "    print('Hello Candidates!!')\n",
    "\n",
    "  def intro(self,name):\n",
    "    print(f'Hello {name},how are you??')\n",
    "      \n",
    "  def intro(self,name,address):\n",
    "    print(f'Hello {name},how are you??')\n",
    "    print(f'Your Address is {address}')\n",
    "\n",
    "a = IITM()\n",
    "\n",
    "a.intro('komal','Delhi')"
   ]
  },
  {
   "cell_type": "code",
   "execution_count": 39,
   "id": "7292266c-b3b3-4542-b86b-ce1384fd5bb3",
   "metadata": {},
   "outputs": [],
   "source": [
    "class IITM:\n",
    "\n",
    "  def intro(self,name = None,address = None):\n",
    "    if (name == None) and (address == None):\n",
    "      print('Hello Candidates!!')\n",
    "\n",
    "    elif (name != None) and (address == None):\n",
    "      print(f'Hello {name},how are you??')\n",
    "\n",
    "    elif (name != None) and  (address != None):\n",
    "      print(f'Hello {name},how are you??')\n",
    "      print(f'Your Address is {address}')\n",
    "\n",
    "    else:\n",
    "        print('Hello Buddy!!')"
   ]
  },
  {
   "cell_type": "code",
   "execution_count": 40,
   "id": "427a4822-a05a-4381-ad9f-ee0663420d84",
   "metadata": {},
   "outputs": [
    {
     "name": "stdout",
     "output_type": "stream",
     "text": [
      "Hello Buddy!!\n"
     ]
    }
   ],
   "source": [
    "a = IITM()\n",
    "a.intro(address = 'Faridabad')"
   ]
  },
  {
   "cell_type": "code",
   "execution_count": 41,
   "id": "7192fbdf-38c7-4edb-90bd-fc2a675cc5d0",
   "metadata": {},
   "outputs": [],
   "source": [
    "# Idea: BluePrint\n",
    "# Not a Physical Object\n",
    "# Abstraction:- project Management\n",
    "\n",
    "# class Website:\n",
    "#   def login()\n",
    "#   def logout()\n",
    "#   def signup()\n",
    "#   def updates()\n",
    "#   def maultiple_pages():"
   ]
  },
  {
   "cell_type": "code",
   "execution_count": 44,
   "id": "33aa80ed-58ea-495e-9ef7-82b276e53021",
   "metadata": {},
   "outputs": [
    {
     "name": "stdout",
     "output_type": "stream",
     "text": [
      "Login successful\n",
      "Logout successful\n"
     ]
    }
   ],
   "source": [
    "from abc import ABC, abstractmethod\n",
    "\n",
    "class Website(ABC):\n",
    "    \n",
    "    @abstractmethod\n",
    "    def login(self):\n",
    "        pass  # Abstract methods should not have a body\n",
    "\n",
    "    @abstractmethod\n",
    "    def logout(self):\n",
    "        pass\n",
    "\n",
    "class MyWebsite(Website):\n",
    "    \n",
    "    def login(self):\n",
    "        print(\"Login successful\")\n",
    "\n",
    "    def logout(self):\n",
    "        print(\"Logout successful\")\n",
    "\n",
    "asus = MyWebsite()\n",
    "asus.login()\n",
    "asus.logout()\n"
   ]
  },
  {
   "cell_type": "code",
   "execution_count": 51,
   "id": "d39e5641-143a-473c-802f-09f7abf7d206",
   "metadata": {},
   "outputs": [],
   "source": [
    "class Nakul(Website):\n",
    "\n",
    "  def signup(self):\n",
    "    print('user can Signup!!')\n",
    "\n",
    "  def login(self):\n",
    "    print('This is a Login  Form')\n",
    "\n",
    "  def logout(self):\n",
    "    print('Use can logout')\n",
    "\n",
    "google = Nakul()\n"
   ]
  },
  {
   "cell_type": "code",
   "execution_count": 52,
   "id": "48a18900-58a3-4a6d-87ce-c39a19f9cf24",
   "metadata": {},
   "outputs": [
    {
     "name": "stdout",
     "output_type": "stream",
     "text": [
      "user can Signup!!\n"
     ]
    }
   ],
   "source": [
    "google.signup()"
   ]
  },
  {
   "cell_type": "code",
   "execution_count": 53,
   "id": "42039674-532b-4eb1-b3b7-8a49fb4c863d",
   "metadata": {},
   "outputs": [
    {
     "name": "stdout",
     "output_type": "stream",
     "text": [
      "This is a Login  Form\n"
     ]
    }
   ],
   "source": [
    "google.login()"
   ]
  },
  {
   "cell_type": "code",
   "execution_count": 55,
   "id": "f4c7293f-e688-4cae-bd2a-b16c713cb73a",
   "metadata": {},
   "outputs": [
    {
     "name": "stdout",
     "output_type": "stream",
     "text": [
      "Use can logout\n"
     ]
    }
   ],
   "source": [
    "google.logout()"
   ]
  }
 ],
 "metadata": {
  "kernelspec": {
   "display_name": "Python 3 (ipykernel)",
   "language": "python",
   "name": "python3"
  },
  "language_info": {
   "codemirror_mode": {
    "name": "ipython",
    "version": 3
   },
   "file_extension": ".py",
   "mimetype": "text/x-python",
   "name": "python",
   "nbconvert_exporter": "python",
   "pygments_lexer": "ipython3",
   "version": "3.12.7"
  }
 },
 "nbformat": 4,
 "nbformat_minor": 5
}
