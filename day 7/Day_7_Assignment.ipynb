{
 "cells": [
  {
   "cell_type": "code",
   "execution_count": 1,
   "id": "9fddbe50-d191-4f27-b418-0c95efce6de1",
   "metadata": {},
   "outputs": [
    {
     "name": "stdout",
     "output_type": "stream",
     "text": [
      "{'name': 'vanshika', 'age': 20, 'student_id': 'ST102', 'course': 'BCA', 'language': 'Python'}\n"
     ]
    }
   ],
   "source": [
    "class Person:\n",
    "    def __init__(self, name, age):\n",
    "        self.name = name\n",
    "        self.age = age\n",
    "\n",
    "class Student(Person):\n",
    "    def __init__(self, name, age, student_id, course):\n",
    "        super().__init__(name, age)\n",
    "        self.student_id = student_id\n",
    "        self.course = course\n",
    "\n",
    "class Teacher(Person):\n",
    "    def __init__(self, name, age, employee_id, subject):\n",
    "        super().__init__(name, age)\n",
    "        self.employee_id = employee_id\n",
    "        self.subject = subject\n",
    "\n",
    "class TechStudent(Student):\n",
    "    def __init__(self, name, age, student_id, course, language):\n",
    "        super().__init__(name, age, student_id, course)\n",
    "        self.language = language\n",
    "\n",
    "ts = TechStudent(\"vanshika\", 20, \"ST102\", \"BCA\", \"Python\")\n",
    "print(vars(ts))\n"
   ]
  },
  {
   "cell_type": "code",
   "execution_count": null,
   "id": "2eebeb02-bf78-4add-a968-90e2dafc3414",
   "metadata": {},
   "outputs": [],
   "source": []
  },
  {
   "cell_type": "code",
   "execution_count": 2,
   "id": "addc23ca-aee6-43fc-bca3-cb2ed4b1366b",
   "metadata": {},
   "outputs": [],
   "source": [
    "from abc import ABC, abstractmethod\n",
    "\n",
    "class MediaPlayer(ABC):\n",
    "    @abstractmethod\n",
    "    def play(self): pass\n",
    "    \n",
    "    @abstractmethod\n",
    "    def stop(self): pass\n",
    "\n",
    "class AudioPlayer(MediaPlayer):\n",
    "    def play(self): print(\"Playing audio\")\n",
    "    def stop(self): print(\"Stopping audio\")\n",
    "\n",
    "class VideoPlayer(MediaPlayer):\n",
    "    def play(self): print(\"Playing video\")\n",
    "    def stop(self): print(\"Stopping video\")\n",
    "\n",
    "class UniversalPlayer(AudioPlayer, VideoPlayer):\n",
    "    def play(self): print(\"Playing universal media\")\n",
    "    def stop(self): print(\"Stopping universal media\")\n",
    "\n",
    "\n",
    "player = UniversalPlayer()"
   ]
  },
  {
   "cell_type": "code",
   "execution_count": 3,
   "id": "a7738883-ba37-4f77-844e-031e8763885d",
   "metadata": {},
   "outputs": [
    {
     "name": "stdout",
     "output_type": "stream",
     "text": [
      "Playing universal media\n"
     ]
    }
   ],
   "source": [
    "player.play()"
   ]
  },
  {
   "cell_type": "code",
   "execution_count": 4,
   "id": "02b7bc64-de23-43f5-9678-215675a10c6c",
   "metadata": {},
   "outputs": [
    {
     "name": "stdout",
     "output_type": "stream",
     "text": [
      "Stopping universal media\n"
     ]
    }
   ],
   "source": [
    "player.stop()"
   ]
  },
  {
   "cell_type": "code",
   "execution_count": null,
   "id": "a6f81524-8ff5-4be2-b44a-1c51a058982e",
   "metadata": {},
   "outputs": [],
   "source": []
  },
  {
   "cell_type": "code",
   "execution_count": 5,
   "id": "a06d9526-b694-490f-8e9e-7fc77060dfe3",
   "metadata": {},
   "outputs": [
    {
     "name": "stdout",
     "output_type": "stream",
     "text": [
      "Interest Rate: 4.5%\n",
      "Interest Rate: 2.5%\n"
     ]
    }
   ],
   "source": [
    "class Bank:\n",
    "    def interest_rate(self): return 0\n",
    "\n",
    "class SavingsAccount(Bank):\n",
    "    def interest_rate(self): return 4.5\n",
    "\n",
    "class CurrentAccount(Bank):\n",
    "    def interest_rate(self): return 2.5\n",
    "\n",
    "\n",
    "accounts = [SavingsAccount(), CurrentAccount()]\n",
    "for acc in accounts:\n",
    "    print(f\"Interest Rate: {acc.interest_rate()}%\")\n"
   ]
  },
  {
   "cell_type": "code",
   "execution_count": null,
   "id": "f77498d5-f9e3-4fd8-8bee-38798f61b1e2",
   "metadata": {},
   "outputs": [],
   "source": []
  },
  {
   "cell_type": "code",
   "execution_count": 6,
   "id": "bcbf4aa9-cbec-4a0f-8947-5fda8d79b7e5",
   "metadata": {},
   "outputs": [
    {
     "name": "stdout",
     "output_type": "stream",
     "text": [
      "Ares attacks with: Sword Slash\n",
      "Merlin attacks with: Fireball\n",
      "Robin attacks with: Arrow Shot\n"
     ]
    }
   ],
   "source": [
    "class Character:\n",
    "    def __init__(self, name, health):\n",
    "        self.name = name\n",
    "        self.health = health\n",
    "    def attack(self): return \"Basic attack\"\n",
    "\n",
    "class Warrior(Character):\n",
    "    def __init__(self, name, health, sword_skill):\n",
    "        super().__init__(name, health)\n",
    "        self.sword_skill = sword_skill\n",
    "    def attack(self): return \"Sword Slash\"\n",
    "\n",
    "class Mage(Character):\n",
    "    def __init__(self, name, health, magic_power):\n",
    "        super().__init__(name, health)\n",
    "        self.magic_power = magic_power\n",
    "    def attack(self): return \"Fireball\"\n",
    "\n",
    "class Archer(Character):\n",
    "    def __init__(self, name, health, bow_skill):\n",
    "        super().__init__(name, health)\n",
    "        self.bow_skill = bow_skill\n",
    "    def attack(self): return \"Arrow Shot\"\n",
    "\n",
    "\n",
    "chars = [Warrior(\"Ares\", 100, 90), Mage(\"Merlin\", 80, 95), Archer(\"Robin\", 85, 88)]\n",
    "for c in chars:\n",
    "    print(f\"{c.name} attacks with: {c.attack()}\")\n"
   ]
  },
  {
   "cell_type": "code",
   "execution_count": null,
   "id": "46256103-5a28-44f8-ad02-650648d71149",
   "metadata": {},
   "outputs": [],
   "source": []
  },
  {
   "cell_type": "code",
   "execution_count": 7,
   "id": "f5b32aa3-3961-4dce-94e5-cb071559e2ab",
   "metadata": {},
   "outputs": [],
   "source": [
    "from abc import ABC, abstractmethod\n",
    "\n",
    "class Transport(ABC):\n",
    "    @abstractmethod\n",
    "    def move(self): pass\n",
    "\n",
    "class LandTransport(Transport):\n",
    "    def move(self): print(\"Moving on land\")\n",
    "\n",
    "class WaterTransport(Transport):\n",
    "    def move(self): print(\"Sailing in water\")\n",
    "\n",
    "class AirTransport(Transport):\n",
    "    def move(self): print(\"Flying in air\")\n",
    "\n",
    "class Amphibious(LandTransport, WaterTransport):\n",
    "    def move(self):\n",
    "        print(\"Can move on land and water\")"
   ]
  },
  {
   "cell_type": "code",
   "execution_count": 8,
   "id": "53288827-c761-4fe5-9d5b-fa8328fb04dc",
   "metadata": {},
   "outputs": [],
   "source": [
    "a = Amphibious()"
   ]
  },
  {
   "cell_type": "code",
   "execution_count": 9,
   "id": "332a4c6d-3d53-4f84-813c-26a25f57a30b",
   "metadata": {},
   "outputs": [
    {
     "name": "stdout",
     "output_type": "stream",
     "text": [
      "Can move on land and water\n"
     ]
    }
   ],
   "source": [
    "a.move()"
   ]
  },
  {
   "cell_type": "code",
   "execution_count": 10,
   "id": "776c7fc9-09f8-4833-aec7-dd9ee8c641bb",
   "metadata": {},
   "outputs": [],
   "source": [
    "a = AirTransport()"
   ]
  },
  {
   "cell_type": "code",
   "execution_count": 11,
   "id": "d2475099-a78d-4ac5-aa4e-0518afb1070c",
   "metadata": {},
   "outputs": [
    {
     "name": "stdout",
     "output_type": "stream",
     "text": [
      "Flying in air\n"
     ]
    }
   ],
   "source": [
    "a.move()"
   ]
  }
 ],
 "metadata": {
  "kernelspec": {
   "display_name": "Python 3 (ipykernel)",
   "language": "python",
   "name": "python3"
  },
  "language_info": {
   "codemirror_mode": {
    "name": "ipython",
    "version": 3
   },
   "file_extension": ".py",
   "mimetype": "text/x-python",
   "name": "python",
   "nbconvert_exporter": "python",
   "pygments_lexer": "ipython3",
   "version": "3.12.7"
  }
 },
 "nbformat": 4,
 "nbformat_minor": 5
}
