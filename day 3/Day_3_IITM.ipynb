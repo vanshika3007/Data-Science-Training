{
 "cells": [
  {
   "cell_type": "code",
   "execution_count": 1,
   "id": "2ecbee63-5f5a-4c49-8b21-bb9e974c200e",
   "metadata": {},
   "outputs": [
    {
     "name": "stdout",
     "output_type": "stream",
     "text": [
      "invalid code!!\n"
     ]
    }
   ],
   "source": [
    "# Last Func\n",
    "# Exception handling\n",
    "# Modules\n",
    "# User defined Module\n",
    "# File Handling and it's uses\n",
    "# Practical Examples\n",
    "# Exception handling\n",
    "# try\n",
    "# except"
   ]
  },
  {
   "cell_type": "code",
   "execution_count": 1,
   "id": "d0f90f55-241a-4a75-bf3f-9f645858d9e2",
   "metadata": {},
   "outputs": [
    {
     "name": "stdout",
     "output_type": "stream",
     "text": [
      "invalid code!!\n"
     ]
    }
   ],
   "source": [
    "#exception handling\n",
    "\n",
    "age ='23'\n",
    "try:\n",
    " print(vari)\n",
    " if age >= 18:\n",
    "    print('can vote')\n",
    " else:\n",
    "     print('can\\'t vote')\n",
    "except TypeError:\n",
    "     print('something went wrong')\n",
    "     print('invalid datatype comparison!!')\n",
    "    \n",
    "except:\n",
    "  print('invalid code!!')\n"
   ]
  },
  {
   "cell_type": "code",
   "execution_count": 2,
   "id": "1068bef0-e6a8-4092-86c1-7a8226210435",
   "metadata": {},
   "outputs": [],
   "source": [
    "def show_time():\n",
    "    try:\n",
    "     while True:\n",
    "        import time\n",
    "        print(time.asctime())\n",
    "        time.sleep(1)\n",
    "        display(clear = True)\n",
    "    except:\n",
    "        print('timer has been stopped!!')"
   ]
  },
  {
   "cell_type": "code",
   "execution_count": null,
   "id": "c7c3a485-e85d-482c-874c-475abcf8ba16",
   "metadata": {},
   "outputs": [
    {
     "name": "stdout",
     "output_type": "stream",
     "text": [
      "Fri Jul  4 11:45:11 2025\n"
     ]
    }
   ],
   "source": [
    "show_time()"
   ]
  },
  {
   "cell_type": "code",
   "execution_count": null,
   "id": "f336cf28-9be0-4e44-b892-1e9bdd959831",
   "metadata": {},
   "outputs": [],
   "source": []
  },
  {
   "cell_type": "code",
   "execution_count": 3,
   "id": "bc9df785-1d6e-4c85-ba62-690c1c329099",
   "metadata": {},
   "outputs": [
    {
     "name": "stdout",
     "output_type": "stream",
     "text": [
      "this is vanshika  module in python\n",
      "info:https://www.google.com/\n",
      "done\n"
     ]
    }
   ],
   "source": [
    "import vanshika as v\n",
    "print('done')\n"
   ]
  },
  {
   "cell_type": "code",
   "execution_count": 6,
   "id": "da73fc9c-729f-4657-97b8-56d65b825a28",
   "metadata": {},
   "outputs": [
    {
     "name": "stdout",
     "output_type": "stream",
     "text": [
      "        % \n",
      "      % % \n",
      "    % % % \n",
      "  % % % % \n",
      "% % % % % \n"
     ]
    }
   ],
   "source": [
    "v.print_star(n=5,typ='right',shape='%')"
   ]
  },
  {
   "cell_type": "code",
   "execution_count": 3,
   "id": "b3af0c3c-a2ca-4d9d-874e-8056d7f35fde",
   "metadata": {},
   "outputs": [
    {
     "name": "stdout",
     "output_type": "stream",
     "text": [
      "Fri Jul  4 12:10:25 2025\n",
      "timer has been stopped!!\n"
     ]
    }
   ],
   "source": [
    "v.show_time()"
   ]
  },
  {
   "cell_type": "code",
   "execution_count": 4,
   "id": "87e6f4c3-dc46-4f31-87a1-ec9a1ea566ab",
   "metadata": {},
   "outputs": [
    {
     "data": {
      "text/plain": [
       "'Not a Plaindrome'"
      ]
     },
     "execution_count": 4,
     "metadata": {},
     "output_type": "execute_result"
    }
   ],
   "source": [
    "v.check_palindrome('word')"
   ]
  },
  {
   "cell_type": "code",
   "execution_count": 5,
   "id": "69a7c622-4ffb-405d-88db-7fef9f0000b8",
   "metadata": {},
   "outputs": [
    {
     "data": {
      "text/plain": [
       "'Prime Number'"
      ]
     },
     "execution_count": 5,
     "metadata": {},
     "output_type": "execute_result"
    }
   ],
   "source": [
    "v.check_prime(23)"
   ]
  },
  {
   "cell_type": "code",
   "execution_count": 6,
   "id": "5c8d6e4f-dce4-4c06-af3c-eabefaf944ab",
   "metadata": {},
   "outputs": [
    {
     "name": "stdout",
     "output_type": "stream",
     "text": [
      "pygame 2.6.1 (SDL 2.28.4, Python 3.12.7)\n",
      "Hello from the pygame community. https://www.pygame.org/contribute.html\n"
     ]
    }
   ],
   "source": [
    "v.sound_box(200)"
   ]
  },
  {
   "cell_type": "code",
   "execution_count": 8,
   "id": "2d90a738-5725-4065-a2f8-aaf1bc1969d6",
   "metadata": {},
   "outputs": [
    {
     "name": "stdout",
     "output_type": "stream",
     "text": [
      "done\n"
     ]
    }
   ],
   "source": [
    "from vanshika import minn\n",
    "print('done')"
   ]
  },
  {
   "cell_type": "code",
   "execution_count": 9,
   "id": "efee20fe-ceb2-4b73-ac51-c9c52ecca542",
   "metadata": {},
   "outputs": [
    {
     "data": {
      "text/plain": [
       "12"
      ]
     },
     "execution_count": 9,
     "metadata": {},
     "output_type": "execute_result"
    }
   ],
   "source": [
    "minn(12,34,345,45)"
   ]
  },
  {
   "cell_type": "code",
   "execution_count": 25,
   "id": "b199fd1d-580e-443c-a06b-ca1fe0a3495f",
   "metadata": {},
   "outputs": [],
   "source": [
    "from vanshika import students_records"
   ]
  },
  {
   "cell_type": "code",
   "execution_count": 26,
   "id": "adb50430-42eb-451b-947f-fb8704a2c073",
   "metadata": {},
   "outputs": [
    {
     "data": {
      "text/html": [
       "<div>\n",
       "<style scoped>\n",
       "    .dataframe tbody tr th:only-of-type {\n",
       "        vertical-align: middle;\n",
       "    }\n",
       "\n",
       "    .dataframe tbody tr th {\n",
       "        vertical-align: top;\n",
       "    }\n",
       "\n",
       "    .dataframe thead th {\n",
       "        text-align: right;\n",
       "    }\n",
       "</style>\n",
       "<table border=\"1\" class=\"dataframe\">\n",
       "  <thead>\n",
       "    <tr style=\"text-align: right;\">\n",
       "      <th></th>\n",
       "      <th>Name</th>\n",
       "      <th>Age</th>\n",
       "      <th>Roll_No</th>\n",
       "      <th>Sec</th>\n",
       "      <th>Address</th>\n",
       "    </tr>\n",
       "  </thead>\n",
       "  <tbody>\n",
       "    <tr>\n",
       "      <th>0</th>\n",
       "      <td>Komal</td>\n",
       "      <td>23</td>\n",
       "      <td>23</td>\n",
       "      <td>A</td>\n",
       "      <td>Noida</td>\n",
       "    </tr>\n",
       "    <tr>\n",
       "      <th>1</th>\n",
       "      <td>Mohan</td>\n",
       "      <td>45</td>\n",
       "      <td>32</td>\n",
       "      <td>B</td>\n",
       "      <td>Delhi</td>\n",
       "    </tr>\n",
       "    <tr>\n",
       "      <th>2</th>\n",
       "      <td>Ajay</td>\n",
       "      <td>56</td>\n",
       "      <td>67</td>\n",
       "      <td>C</td>\n",
       "      <td>Greater Noida</td>\n",
       "    </tr>\n",
       "  </tbody>\n",
       "</table>\n",
       "</div>"
      ],
      "text/plain": [
       "    Name  Age  Roll_No Sec        Address\n",
       "0  Komal   23       23   A          Noida\n",
       "1  Mohan   45       32   B          Delhi\n",
       "2   Ajay   56       67   C  Greater Noida"
      ]
     },
     "execution_count": 26,
     "metadata": {},
     "output_type": "execute_result"
    }
   ],
   "source": [
    "students_records(Name = ['Komal','Mohan','Ajay'],\n",
    "                 Age = [23,45,56],\n",
    "                 Roll_No = [23,32,67],\n",
    "                 Sec = list('ABC'),\n",
    "                 Address = ['Noida','Delhi','Greater Noida'])"
   ]
  },
  {
   "cell_type": "code",
   "execution_count": 27,
   "id": "f7b1371a-aa94-46b5-b6cf-8cfd20e66cbe",
   "metadata": {},
   "outputs": [],
   "source": [
    "from vanshika import*"
   ]
  },
  {
   "cell_type": "code",
   "execution_count": 28,
   "id": "c83b137c-dde7-4c48-85c5-4c1cdcd7fa15",
   "metadata": {},
   "outputs": [
    {
     "data": {
      "text/plain": [
       "630"
      ]
     },
     "execution_count": 28,
     "metadata": {},
     "output_type": "execute_result"
    }
   ],
   "source": [
    "sum_of_n_natural_numbers(35)"
   ]
  },
  {
   "cell_type": "code",
   "execution_count": 3,
   "id": "dd42551a-b817-4cf7-8364-56fe300ed41b",
   "metadata": {},
   "outputs": [
    {
     "name": "stdout",
     "output_type": "stream",
     "text": [
      "done\n"
     ]
    }
   ],
   "source": [
    "import turtle\n",
    "print('done')"
   ]
  },
  {
   "cell_type": "code",
   "execution_count": 7,
   "id": "beba9d13-d0d3-4393-b16e-ca29fb02f02f",
   "metadata": {},
   "outputs": [],
   "source": [
    "import turtle\n",
    "for i in range(120):\n",
    "    turtle.speed(0)\n",
    "    turtle.bgcolor('black')\n",
    "    col = ['red','yellow','green','blue','orange']\n",
    "    import random\n",
    "    picked_color = random.choice(col)\n",
    "    turtle.color(picked_color)\n",
    "    turtle.circle(100)\n",
    "    turtle.left(3)"
   ]
  },
  {
   "cell_type": "code",
   "execution_count": 1,
   "id": "3f9bdad4-c75b-4ab4-ae19-89a6f78e4662",
   "metadata": {},
   "outputs": [],
   "source": [
    "import turtle\n",
    "for i in range (3):\n",
    "    turtle.bgcolor('black')\n",
    "    turtle.color('cyan')\n",
    "    turtle.forward(400)\n",
    "    turtle.left(120)"
   ]
  },
  {
   "cell_type": "code",
   "execution_count": 1,
   "id": "7fd8c0c9-8dd9-4ab9-8e36-07ce09b38e79",
   "metadata": {},
   "outputs": [],
   "source": [
    "import turtle\n",
    "for i in range (3):\n",
    "    turtle.bgcolor('black')\n",
    "    turtle.color('cyan')\n",
    "    turtle.forward(150)\n",
    "    turtle.left(60)"
   ]
  },
  {
   "cell_type": "code",
   "execution_count": 1,
   "id": "09ff1177-3cf0-4e7a-aea6-2d54f7ff5e89",
   "metadata": {},
   "outputs": [],
   "source": [
    "#jupyter\n",
    "#file handling \n",
    "#types of file\n",
    "#1: text file\n",
    "#.py,.html,.csv,.tsv,.css,.java,.c,c++,.json,.js\n",
    "#binary file\n",
    "#,pdf, .mp3, .mp4, .jpeg, .exe, .zip, .dat, .tar,.xlsx, .ppt, .doc, .ipynb"
   ]
  },
  {
   "cell_type": "code",
   "execution_count": 2,
   "id": "9a24ece5-9b71-4bd5-abe3-9c4caee95445",
   "metadata": {},
   "outputs": [],
   "source": [
    "#handling:- read,write,copy,append,delete,open"
   ]
  },
  {
   "cell_type": "code",
   "execution_count": 3,
   "id": "ad8db5e2-50b2-4211-8bcc-fd16f929c725",
   "metadata": {},
   "outputs": [],
   "source": [
    "#context manager"
   ]
  },
  {
   "cell_type": "code",
   "execution_count": 8,
   "id": "a97e7b1f-e825-4f56-a0b6-443a8aeeea8d",
   "metadata": {},
   "outputs": [
    {
     "name": "stdout",
     "output_type": "stream",
     "text": [
      "print('''this is vanshika  module in python\n",
      "info:https://www.google.com/''')\n",
      "\n",
      "\n",
      "def check_palindrome(word:str):\n",
      "  if type(word) == str:\n",
      "    word = word.upper()\n",
      "    if word == word[::-1]:\n",
      "      return 'Palindrome'\n",
      "    else:\n",
      "      return 'Not a Plaindrome'\n",
      "  else:\n",
      "    return 'Invalid Data Type'\n",
      "\n",
      "\n",
      "def give_fibo(n):\n",
      "  fibo = [0,1]\n",
      "  for i in range(n-2):\n",
      "     last_num = fibo[-1]\n",
      "     second_last_num = fibo[-2]\n",
      "     next_num = last_num + second_last_num\n",
      "     fibo.append(next_num)\n",
      "  return fibo\n",
      "\n",
      "\n",
      "def check_prime(number):\n",
      "    for i in range(2,number):\n",
      "        if number % i == 0:\n",
      "            return 'Not a Prime Number'\n",
      "            break\n",
      "            print('Happy Holi')\n",
      "    else:\n",
      "        return 'Prime Number'\n",
      "\n",
      "\n",
      "def print_star(n = 5, typ = 'left',shape = '*'):\n",
      "  if typ  == 'left':\n",
      "    space  = ''\n",
      "\n",
      "  elif typ == 'right':\n",
      "    space = '  '\n",
      "\n",
      "  elif typ == 'mid':\n",
      "    space = ' '\n",
      "\n",
      "  for i in range(1,n+1):\n",
      "    print(space*(n-i) + i*f'{shape} ')\n",
      "\n",
      "\n",
      "def sum_of_n_natural_numbers(n):\n",
      "    result = 0\n",
      "    for i in range(1,n+1):\n",
      "        result += i\n",
      "    return result\n",
      "\n",
      "\n",
      "def factorial(n):\n",
      "    result = 1\n",
      "    for i in range(1,n+1):\n",
      "        result *= i\n",
      "    return result\n",
      "\n",
      "\n",
      "def total_sales(*args):\n",
      "  #unpacking\n",
      "  result = 0\n",
      "  for i in args:\n",
      "    result += i\n",
      "  return result\n",
      "\n",
      "\n",
      "def minn(*data):\n",
      "  min_ele = data[0]\n",
      "  for i in data[1:]:\n",
      "    if i< min_ele:\n",
      "      min_ele = i\n",
      "  return min_ele\n",
      "\n",
      "\n",
      "def store_records(name,age,sec,roll_no,Class):\n",
      "  data = {'Name':name,'Age':age,'Sec':sec,'Roll_NO':roll_no,'Class':Class}\n",
      "  import pandas as pd\n",
      "  result = pd.DataFrame(data,index = [0])\n",
      "  return result\n",
      "\n",
      "\n",
      "def students_records(**kwargs):\n",
      "    # print(kwargs)\n",
      "    # try exception\n",
      "    import pandas as pd\n",
      "    try:\n",
      "        result = pd.DataFrame(kwargs)\n",
      "        return result\n",
      "    except:\n",
      "        result = pd.DataFrame(kwargs,index = [1])\n",
      "        \n",
      "\n",
      "def show_time():\n",
      "    try:\n",
      "     while True:\n",
      "        import time\n",
      "        print(time.asctime())\n",
      "        time.sleep(1)\n",
      "        display(clear = True)\n",
      "    except:\n",
      "        print('timer has been stopped!!')\n",
      "        \n",
      "\n",
      "\n",
      "def sound_box(paisa,platform = 'Paytm'):\n",
      "    from gtts import gTTS\n",
      "    text  = f'''{platform} par {paisa} rs Prapt hue.'''\n",
      "    audio = gTTS(text)\n",
      "    audio.save('paytm.mp3')\n",
      "\n",
      "    import pygame as p\n",
      "    p.init()\n",
      "\n",
      "    music = p.mixer.Sound('paytm.mp3')\n",
      "    music.play()\n",
      "\n",
      "\n",
      "\n",
      "    \n"
     ]
    }
   ],
   "source": [
    "file = open('vanshika.py',mode = 'r')\n",
    "print(file.read())\n",
    "file.close()"
   ]
  },
  {
   "cell_type": "code",
   "execution_count": 11,
   "id": "7a865183-8415-4688-b128-34ff7f376558",
   "metadata": {},
   "outputs": [],
   "source": [
    "a = 'ajay'\n",
    "b = 'ajay'\n"
   ]
  },
  {
   "cell_type": "code",
   "execution_count": 12,
   "id": "49359d90-655d-401d-8913-e73b901751fd",
   "metadata": {},
   "outputs": [
    {
     "name": "stdout",
     "output_type": "stream",
     "text": [
      "print('''this is vanshika  module in python\n",
      "\n"
     ]
    }
   ],
   "source": [
    "f = open('vanshika.py',mode = 'r')\n",
    "print(f.readline())\n"
   ]
  },
  {
   "cell_type": "code",
   "execution_count": 13,
   "id": "a45af167-c457-4d4f-98ab-391536a3fcab",
   "metadata": {},
   "outputs": [],
   "source": [
    "f.close()\n"
   ]
  },
  {
   "cell_type": "code",
   "execution_count": 15,
   "id": "5281bc47-01a8-44ae-9eaa-b8a88993f4c8",
   "metadata": {},
   "outputs": [
    {
     "name": "stdout",
     "output_type": "stream",
     "text": [
      "print('''this is vanshika  module in python\n",
      "\n",
      "info:https://www.google.com/''')\n",
      "\n",
      "\n",
      "\n",
      "\n",
      "\n",
      "def check_palindrome(word:str):\n",
      "\n"
     ]
    }
   ],
   "source": [
    "f = open('vanshika.py',mode = 'r')\n",
    "for i in range(5):\n",
    "    \n",
    " print(f.readline())"
   ]
  },
  {
   "cell_type": "code",
   "execution_count": 23,
   "id": "bada98b1-c6f2-4b23-a32a-292116e92958",
   "metadata": {},
   "outputs": [
    {
     "name": "stdout",
     "output_type": "stream",
     "text": [
      "    if word == word[::-1]:\n",
      "\n"
     ]
    }
   ],
   "source": [
    "f = open('vanshika.py',mode = 'r')\n",
    "for i in range(10):\n",
    "   if i == 7:\n",
    "    print(f.readline())\n",
    "   else:\n",
    "    f.readline()"
   ]
  },
  {
   "cell_type": "code",
   "execution_count": 25,
   "id": "efa8d751-3e88-40a5-ad86-c1297291597f",
   "metadata": {},
   "outputs": [
    {
     "name": "stdout",
     "output_type": "stream",
     "text": [
      "done\n"
     ]
    }
   ],
   "source": [
    "f.close()\n",
    "print('done')"
   ]
  },
  {
   "cell_type": "code",
   "execution_count": null,
   "id": "1c4726a7-cbbf-41f5-b7d0-6a0b0f84370a",
   "metadata": {},
   "outputs": [],
   "source": []
  }
 ],
 "metadata": {
  "kernelspec": {
   "display_name": "Python 3 (ipykernel)",
   "language": "python",
   "name": "python3"
  },
  "language_info": {
   "codemirror_mode": {
    "name": "ipython",
    "version": 3
   },
   "file_extension": ".py",
   "mimetype": "text/x-python",
   "name": "python",
   "nbconvert_exporter": "python",
   "pygments_lexer": "ipython3",
   "version": "3.12.7"
  }
 },
 "nbformat": 4,
 "nbformat_minor": 5
}
