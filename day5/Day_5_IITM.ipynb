{
 "cells": [
  {
   "cell_type": "code",
   "execution_count": 1,
   "id": "7f2f23fa-6b1b-4bd2-aa94-534caf5e2488",
   "metadata": {},
   "outputs": [],
   "source": [
    "#pip install PyMySQL"
   ]
  },
  {
   "cell_type": "code",
   "execution_count": 2,
   "id": "1198c987-32c1-4872-99f9-0ecf69309ab1",
   "metadata": {},
   "outputs": [
    {
     "name": "stdout",
     "output_type": "stream",
     "text": [
      "done\n"
     ]
    }
   ],
   "source": [
    "import pymysql as py\n",
    "print('done')\n"
   ]
  },
  {
   "cell_type": "code",
   "execution_count": 3,
   "id": "d6db9a56-6b19-4c65-8753-364421cd4c6d",
   "metadata": {},
   "outputs": [
    {
     "name": "stdout",
     "output_type": "stream",
     "text": [
      "Connection Created Successfully!!\n",
      "Done\n"
     ]
    }
   ],
   "source": [
    "conn = py.connect(user = 'root',\n",
    "           password='07Feb@2004',\n",
    "           host='localhost',\n",
    "           autocommit = True)\n",
    "\n",
    "print('Connection Created Successfully!!')\n",
    "print('Done')\n"
   ]
  },
  {
   "cell_type": "code",
   "execution_count": 4,
   "id": "a00a2318-db69-4c89-b514-31ca8a0e1c06",
   "metadata": {},
   "outputs": [],
   "source": [
    "#output connection created done"
   ]
  },
  {
   "cell_type": "code",
   "execution_count": 5,
   "id": "575cc7ee-30a0-4970-934f-c5b8e5f46bec",
   "metadata": {},
   "outputs": [
    {
     "name": "stdout",
     "output_type": "stream",
     "text": [
      "done\n"
     ]
    }
   ],
   "source": [
    "#create database using python\n",
    "cur = conn.cursor()\n",
    "print('done')"
   ]
  },
  {
   "cell_type": "raw",
   "id": "065ca53e-1e45-4d44-9cf5-9f56212d63fe",
   "metadata": {},
   "source": []
  },
  {
   "cell_type": "code",
   "execution_count": 7,
   "id": "c0cc12d8-bb00-4318-8c0d-43eec95b11ac",
   "metadata": {},
   "outputs": [
    {
     "name": "stdout",
     "output_type": "stream",
     "text": [
      "done\n"
     ]
    }
   ],
   "source": [
    "query = '''create database IITM_Day_5;'''\n",
    "cur.execute(query)\n",
    "print('done')"
   ]
  },
  {
   "cell_type": "code",
   "execution_count": 9,
   "id": "6489cb18-c0a3-4d3a-abc9-4e38935ae036",
   "metadata": {},
   "outputs": [
    {
     "name": "stdout",
     "output_type": "stream",
     "text": [
      "done\n"
     ]
    }
   ],
   "source": [
    "query = 'USE IITM_Day_5;'\n",
    "cur.execute(query)\n",
    "print('done')"
   ]
  },
  {
   "cell_type": "code",
   "execution_count": 10,
   "id": "bba3c09e-e7a4-4108-9445-d273d7e71563",
   "metadata": {},
   "outputs": [
    {
     "name": "stdout",
     "output_type": "stream",
     "text": [
      "done\n"
     ]
    }
   ],
   "source": [
    "query = '''create table student_details\n",
    "(SID int not null,\n",
    "student_name varchar(50),\n",
    "course varchar(50),\n",
    "Address varchar(50),\n",
    "Scholarship float\n",
    ")'''\n",
    "cur.execute(query)\n",
    "print('done')"
   ]
  },
  {
   "cell_type": "code",
   "execution_count": null,
   "id": "b61e61a9-92be-44f6-b9bf-044ae80018c8",
   "metadata": {},
   "outputs": [],
   "source": []
  },
  {
   "cell_type": "code",
   "execution_count": 11,
   "id": "0b56230f-316d-4043-aaff-4139d02f5b01",
   "metadata": {},
   "outputs": [],
   "source": []
  },
  {
   "cell_type": "code",
   "execution_count": 15,
   "id": "a8810a45-aab1-4970-9703-d5507817794a",
   "metadata": {},
   "outputs": [],
   "source": [
    "query = '''insert into student_details\n",
    "values\n",
    "(101,\"Mohan Sharma\",\"BCA\",\"Delhi Janakpuri\",5000),\n",
    "(105,\"Ravi verma\",\"MCA\",\"South Delhi\",5500);\n",
    "'''"
   ]
  },
  {
   "cell_type": "code",
   "execution_count": null,
   "id": "f14b74bd-2313-4dca-b140-08d77efa1142",
   "metadata": {},
   "outputs": [],
   "source": [
    "SELECT * from IITM_Day_5.student_details;"
   ]
  },
  {
   "cell_type": "code",
   "execution_count": 28,
   "id": "86979848-6ab4-4df2-958c-5e4982918e36",
   "metadata": {},
   "outputs": [
    {
     "name": "stdin",
     "output_type": "stream",
     "text": [
      "Enter Roll No/SID:  35\n",
      "Enter your Name:  Vanshika\n",
      "Enter your course:  BCA\n",
      "Enter  your Address:  xyz\n",
      "Enter your scholarship in RS:  200000\n"
     ]
    },
    {
     "name": "stdout",
     "output_type": "stream",
     "text": [
      "record inserted successfully!!\n",
      "done\n"
     ]
    },
    {
     "name": "stdin",
     "output_type": "stream",
     "text": [
      "Enter Roll No/SID:  26\n",
      "Enter your Name:  riya\n",
      "Enter your course:  BCA\n",
      "Enter  your Address:  abc\n",
      "Enter your scholarship in RS:  100000\n"
     ]
    },
    {
     "name": "stdout",
     "output_type": "stream",
     "text": [
      "record inserted successfully!!\n",
      "done\n"
     ]
    },
    {
     "name": "stdin",
     "output_type": "stream",
     "text": [
      "Enter Roll No/SID:  66\n",
      "Enter your Name:  salina\n",
      "Enter your course:  BBA\n",
      "Enter  your Address:  pqr\n",
      "Enter your scholarship in RS:  250000\n"
     ]
    },
    {
     "name": "stdout",
     "output_type": "stream",
     "text": [
      "record inserted successfully!!\n",
      "done\n"
     ]
    }
   ],
   "source": [
    "n= 3\n",
    "for i in range(n):\n",
    "        sid = int(input('Enter Roll No/SID: '))\n",
    "        name = input('Enter your Name: ')\n",
    "        course = input('Enter your course: ')\n",
    "        address = input('Enter  your Address: ')\n",
    "        scholarship = float(input('Enter your scholarship in RS: '))\n",
    "        q = f'''insert into student_details values\n",
    "        ({sid},\"{name}\",\"{course}\",\"{address}\",{scholarship});'''\n",
    "        cur.execute(q)\n",
    "        print('record inserted successfully!!')\n",
    "        print('done')"
   ]
  },
  {
   "cell_type": "code",
   "execution_count": 29,
   "id": "38205a1f-3bc9-49db-bf1b-08aa69041f8d",
   "metadata": {},
   "outputs": [],
   "source": []
  },
  {
   "cell_type": "code",
   "execution_count": null,
   "id": "bcd14b32-5af6-4b02-be6c-d6a6445c100c",
   "metadata": {},
   "outputs": [],
   "source": [
    "query = '''select * from student_details;''' \n",
    "cur.execute(query)\n",
    "records = cur.fetchall()\n",
    "\n",
    "all_columns = []\n",
    "for i in cur.description:\n",
    " all_columns.append(i[0])\n",
    " import pandas as pd\n",
    " pd.DataFrame(records,columns=all_columns)"
   ]
  },
  {
   "cell_type": "code",
   "execution_count": 41,
   "id": "628bd765-be6c-4dca-8cde-1036162a75af",
   "metadata": {},
   "outputs": [
    {
     "name": "stdout",
     "output_type": "stream",
     "text": [
      "('SID', 3, None, 11, 11, 0, False)\n",
      "('student_name', 253, None, 200, 200, 0, True)\n",
      "('course', 253, None, 200, 200, 0, True)\n",
      "('Address', 253, None, 200, 200, 0, True)\n",
      "('Scholarship', 4, None, 12, 12, 31, True)\n"
     ]
    }
   ],
   "source": [
    "for i in cur.description:\n",
    " print(i)"
   ]
  },
  {
   "cell_type": "code",
   "execution_count": 42,
   "id": "0e5232f1-e569-4fe2-a64b-6d5f671a9c56",
   "metadata": {},
   "outputs": [
    {
     "name": "stdout",
     "output_type": "stream",
     "text": [
      "SID\n",
      "student_name\n",
      "course\n",
      "Address\n",
      "Scholarship\n"
     ]
    }
   ],
   "source": [
    "for i in cur.description:\n",
    " print(i[0])"
   ]
  },
  {
   "cell_type": "code",
   "execution_count": 44,
   "id": "7099bed4-be4a-4086-ac8b-72c14a4f5dd6",
   "metadata": {},
   "outputs": [],
   "source": [
    "for i in cur.description:\n",
    " all_columns.append(i[0])"
   ]
  },
  {
   "cell_type": "code",
   "execution_count": 46,
   "id": "f83911ea-ab98-4ea0-a15f-2472edcdcbc8",
   "metadata": {},
   "outputs": [
    {
     "ename": "ValueError",
     "evalue": "1 columns passed, passed data had 5 columns",
     "output_type": "error",
     "traceback": [
      "\u001b[1;31m---------------------------------------------------------------------------\u001b[0m",
      "\u001b[1;31mAssertionError\u001b[0m                            Traceback (most recent call last)",
      "File \u001b[1;32mC:\\ProgramData\\anaconda3\\Lib\\site-packages\\pandas\\core\\internals\\construction.py:939\u001b[0m, in \u001b[0;36m_finalize_columns_and_data\u001b[1;34m(content, columns, dtype)\u001b[0m\n\u001b[0;32m    938\u001b[0m \u001b[38;5;28;01mtry\u001b[39;00m:\n\u001b[1;32m--> 939\u001b[0m     columns \u001b[38;5;241m=\u001b[39m _validate_or_indexify_columns(contents, columns)\n\u001b[0;32m    940\u001b[0m \u001b[38;5;28;01mexcept\u001b[39;00m \u001b[38;5;167;01mAssertionError\u001b[39;00m \u001b[38;5;28;01mas\u001b[39;00m err:\n\u001b[0;32m    941\u001b[0m     \u001b[38;5;66;03m# GH#26429 do not raise user-facing AssertionError\u001b[39;00m\n",
      "File \u001b[1;32mC:\\ProgramData\\anaconda3\\Lib\\site-packages\\pandas\\core\\internals\\construction.py:986\u001b[0m, in \u001b[0;36m_validate_or_indexify_columns\u001b[1;34m(content, columns)\u001b[0m\n\u001b[0;32m    984\u001b[0m \u001b[38;5;28;01mif\u001b[39;00m \u001b[38;5;129;01mnot\u001b[39;00m is_mi_list \u001b[38;5;129;01mand\u001b[39;00m \u001b[38;5;28mlen\u001b[39m(columns) \u001b[38;5;241m!=\u001b[39m \u001b[38;5;28mlen\u001b[39m(content):  \u001b[38;5;66;03m# pragma: no cover\u001b[39;00m\n\u001b[0;32m    985\u001b[0m     \u001b[38;5;66;03m# caller's responsibility to check for this...\u001b[39;00m\n\u001b[1;32m--> 986\u001b[0m     \u001b[38;5;28;01mraise\u001b[39;00m \u001b[38;5;167;01mAssertionError\u001b[39;00m(\n\u001b[0;32m    987\u001b[0m         \u001b[38;5;124mf\u001b[39m\u001b[38;5;124m\"\u001b[39m\u001b[38;5;132;01m{\u001b[39;00m\u001b[38;5;28mlen\u001b[39m(columns)\u001b[38;5;132;01m}\u001b[39;00m\u001b[38;5;124m columns passed, passed data had \u001b[39m\u001b[38;5;124m\"\u001b[39m\n\u001b[0;32m    988\u001b[0m         \u001b[38;5;124mf\u001b[39m\u001b[38;5;124m\"\u001b[39m\u001b[38;5;132;01m{\u001b[39;00m\u001b[38;5;28mlen\u001b[39m(content)\u001b[38;5;132;01m}\u001b[39;00m\u001b[38;5;124m columns\u001b[39m\u001b[38;5;124m\"\u001b[39m\n\u001b[0;32m    989\u001b[0m     )\n\u001b[0;32m    990\u001b[0m \u001b[38;5;28;01mif\u001b[39;00m is_mi_list:\n\u001b[0;32m    991\u001b[0m     \u001b[38;5;66;03m# check if nested list column, length of each sub-list should be equal\u001b[39;00m\n",
      "\u001b[1;31mAssertionError\u001b[0m: 1 columns passed, passed data had 5 columns",
      "\nThe above exception was the direct cause of the following exception:\n",
      "\u001b[1;31mValueError\u001b[0m                                Traceback (most recent call last)",
      "Cell \u001b[1;32mIn[46], line 9\u001b[0m\n\u001b[0;32m      7\u001b[0m all_columns\u001b[38;5;241m.\u001b[39mappend(i[\u001b[38;5;241m0\u001b[39m])\n\u001b[0;32m      8\u001b[0m \u001b[38;5;28;01mimport\u001b[39;00m \u001b[38;5;21;01mpandas\u001b[39;00m \u001b[38;5;28;01mas\u001b[39;00m \u001b[38;5;21;01mpd\u001b[39;00m\n\u001b[1;32m----> 9\u001b[0m df \u001b[38;5;241m=\u001b[39m pd\u001b[38;5;241m.\u001b[39mDataFrame(records,columns\u001b[38;5;241m=\u001b[39mall_columns)\n\u001b[0;32m     10\u001b[0m df\n",
      "File \u001b[1;32mC:\\ProgramData\\anaconda3\\Lib\\site-packages\\pandas\\core\\frame.py:851\u001b[0m, in \u001b[0;36mDataFrame.__init__\u001b[1;34m(self, data, index, columns, dtype, copy)\u001b[0m\n\u001b[0;32m    849\u001b[0m     \u001b[38;5;28;01mif\u001b[39;00m columns \u001b[38;5;129;01mis\u001b[39;00m \u001b[38;5;129;01mnot\u001b[39;00m \u001b[38;5;28;01mNone\u001b[39;00m:\n\u001b[0;32m    850\u001b[0m         columns \u001b[38;5;241m=\u001b[39m ensure_index(columns)\n\u001b[1;32m--> 851\u001b[0m     arrays, columns, index \u001b[38;5;241m=\u001b[39m nested_data_to_arrays(\n\u001b[0;32m    852\u001b[0m         \u001b[38;5;66;03m# error: Argument 3 to \"nested_data_to_arrays\" has incompatible\u001b[39;00m\n\u001b[0;32m    853\u001b[0m         \u001b[38;5;66;03m# type \"Optional[Collection[Any]]\"; expected \"Optional[Index]\"\u001b[39;00m\n\u001b[0;32m    854\u001b[0m         data,\n\u001b[0;32m    855\u001b[0m         columns,\n\u001b[0;32m    856\u001b[0m         index,  \u001b[38;5;66;03m# type: ignore[arg-type]\u001b[39;00m\n\u001b[0;32m    857\u001b[0m         dtype,\n\u001b[0;32m    858\u001b[0m     )\n\u001b[0;32m    859\u001b[0m     mgr \u001b[38;5;241m=\u001b[39m arrays_to_mgr(\n\u001b[0;32m    860\u001b[0m         arrays,\n\u001b[0;32m    861\u001b[0m         columns,\n\u001b[1;32m   (...)\u001b[0m\n\u001b[0;32m    864\u001b[0m         typ\u001b[38;5;241m=\u001b[39mmanager,\n\u001b[0;32m    865\u001b[0m     )\n\u001b[0;32m    866\u001b[0m \u001b[38;5;28;01melse\u001b[39;00m:\n",
      "File \u001b[1;32mC:\\ProgramData\\anaconda3\\Lib\\site-packages\\pandas\\core\\internals\\construction.py:520\u001b[0m, in \u001b[0;36mnested_data_to_arrays\u001b[1;34m(data, columns, index, dtype)\u001b[0m\n\u001b[0;32m    517\u001b[0m \u001b[38;5;28;01mif\u001b[39;00m is_named_tuple(data[\u001b[38;5;241m0\u001b[39m]) \u001b[38;5;129;01mand\u001b[39;00m columns \u001b[38;5;129;01mis\u001b[39;00m \u001b[38;5;28;01mNone\u001b[39;00m:\n\u001b[0;32m    518\u001b[0m     columns \u001b[38;5;241m=\u001b[39m ensure_index(data[\u001b[38;5;241m0\u001b[39m]\u001b[38;5;241m.\u001b[39m_fields)\n\u001b[1;32m--> 520\u001b[0m arrays, columns \u001b[38;5;241m=\u001b[39m to_arrays(data, columns, dtype\u001b[38;5;241m=\u001b[39mdtype)\n\u001b[0;32m    521\u001b[0m columns \u001b[38;5;241m=\u001b[39m ensure_index(columns)\n\u001b[0;32m    523\u001b[0m \u001b[38;5;28;01mif\u001b[39;00m index \u001b[38;5;129;01mis\u001b[39;00m \u001b[38;5;28;01mNone\u001b[39;00m:\n",
      "File \u001b[1;32mC:\\ProgramData\\anaconda3\\Lib\\site-packages\\pandas\\core\\internals\\construction.py:845\u001b[0m, in \u001b[0;36mto_arrays\u001b[1;34m(data, columns, dtype)\u001b[0m\n\u001b[0;32m    842\u001b[0m     data \u001b[38;5;241m=\u001b[39m [\u001b[38;5;28mtuple\u001b[39m(x) \u001b[38;5;28;01mfor\u001b[39;00m x \u001b[38;5;129;01min\u001b[39;00m data]\n\u001b[0;32m    843\u001b[0m     arr \u001b[38;5;241m=\u001b[39m _list_to_arrays(data)\n\u001b[1;32m--> 845\u001b[0m content, columns \u001b[38;5;241m=\u001b[39m _finalize_columns_and_data(arr, columns, dtype)\n\u001b[0;32m    846\u001b[0m \u001b[38;5;28;01mreturn\u001b[39;00m content, columns\n",
      "File \u001b[1;32mC:\\ProgramData\\anaconda3\\Lib\\site-packages\\pandas\\core\\internals\\construction.py:942\u001b[0m, in \u001b[0;36m_finalize_columns_and_data\u001b[1;34m(content, columns, dtype)\u001b[0m\n\u001b[0;32m    939\u001b[0m     columns \u001b[38;5;241m=\u001b[39m _validate_or_indexify_columns(contents, columns)\n\u001b[0;32m    940\u001b[0m \u001b[38;5;28;01mexcept\u001b[39;00m \u001b[38;5;167;01mAssertionError\u001b[39;00m \u001b[38;5;28;01mas\u001b[39;00m err:\n\u001b[0;32m    941\u001b[0m     \u001b[38;5;66;03m# GH#26429 do not raise user-facing AssertionError\u001b[39;00m\n\u001b[1;32m--> 942\u001b[0m     \u001b[38;5;28;01mraise\u001b[39;00m \u001b[38;5;167;01mValueError\u001b[39;00m(err) \u001b[38;5;28;01mfrom\u001b[39;00m \u001b[38;5;21;01merr\u001b[39;00m\n\u001b[0;32m    944\u001b[0m \u001b[38;5;28;01mif\u001b[39;00m \u001b[38;5;28mlen\u001b[39m(contents) \u001b[38;5;129;01mand\u001b[39;00m contents[\u001b[38;5;241m0\u001b[39m]\u001b[38;5;241m.\u001b[39mdtype \u001b[38;5;241m==\u001b[39m np\u001b[38;5;241m.\u001b[39mobject_:\n\u001b[0;32m    945\u001b[0m     contents \u001b[38;5;241m=\u001b[39m convert_object_array(contents, dtype\u001b[38;5;241m=\u001b[39mdtype)\n",
      "\u001b[1;31mValueError\u001b[0m: 1 columns passed, passed data had 5 columns"
     ]
    }
   ],
   "source": [
    "query = '''select * from student_details;''' \n",
    "cur.execute(query)\n",
    "records = cur.fetchall()\n",
    "\n",
    "all_columns = []\n",
    "for i in cur.description:\n",
    "    all_columns.append(i[0])\n",
    "    import pandas as pd\n",
    "    df = pd.DataFrame(records,columns=all_columns)\n",
    "    df"
   ]
  },
  {
   "cell_type": "code",
   "execution_count": null,
   "id": "d3c213ab-992b-46a6-b7df-be8f655c8c7a",
   "metadata": {},
   "outputs": [],
   "source": []
  },
  {
   "cell_type": "code",
   "execution_count": null,
   "id": "e28b5114-e797-447e-85b0-2858d3b153eb",
   "metadata": {},
   "outputs": [],
   "source": []
  },
  {
   "cell_type": "code",
   "execution_count": null,
   "id": "9823433a-cd99-4e21-b64f-0d2291d2a1c9",
   "metadata": {},
   "outputs": [],
   "source": []
  },
  {
   "cell_type": "code",
   "execution_count": null,
   "id": "7b08341c-5049-403a-802a-a1d1333d1aac",
   "metadata": {},
   "outputs": [],
   "source": [
    "def show_records(db,table):\n",
    " query = f'''select * from {db}.{table};''' \n",
    " cur.execute(query)\n",
    " records = cur.fetchall()\n",
    "\n",
    "all_columns = []\n",
    "for i in cur.description:\n",
    "    all_columns.append(i[0])\n",
    "\n",
    "\n",
    "import pandas as pd\n",
    "df = pd.DataFrame(records,columns=all_columns)\n",
    "return df"
   ]
  }
 ],
 "metadata": {
  "kernelspec": {
   "display_name": "Python 3 (ipykernel)",
   "language": "python",
   "name": "python3"
  },
  "language_info": {
   "codemirror_mode": {
    "name": "ipython",
    "version": 3
   },
   "file_extension": ".py",
   "mimetype": "text/x-python",
   "name": "python",
   "nbconvert_exporter": "python",
   "pygments_lexer": "ipython3",
   "version": "3.12.7"
  }
 },
 "nbformat": 4,
 "nbformat_minor": 5
}
